{
  "nbformat": 4,
  "nbformat_minor": 0,
  "metadata": {
    "colab": {
      "name": "Seoul gasStation Price.ipynb",
      "provenance": [],
      "collapsed_sections": [],
      "mount_file_id": "1uZ36rW6gcxi91RBfebe2EOD6sA_ISuuH",
      "authorship_tag": "ABX9TyOReDRwbdi1BDVdmqzbwU3B",
      "include_colab_link": true
    },
    "kernelspec": {
      "name": "python3",
      "display_name": "Python 3"
    }
  },
  "cells": [
    {
      "cell_type": "markdown",
      "metadata": {
        "id": "view-in-github",
        "colab_type": "text"
      },
      "source": [
        "<a href=\"https://colab.research.google.com/github/hongsamhc2/Project/blob/main/%EC%84%9C%EC%9A%B8%EC%8B%9C%20%EC%A3%BC%EC%9C%A0%EC%86%8C/Seoul_gasStation_Price.ipynb\" target=\"_parent\"><img src=\"https://colab.research.google.com/assets/colab-badge.svg\" alt=\"Open In Colab\"/></a>"
      ]
    },
    {
      "cell_type": "code",
      "metadata": {
        "id": "xF6TZnSm5kXM"
      },
      "source": [
        "import pandas as pd \n",
        "from glob import glob\n",
        "import matplotlib.pyplot as plt\n",
        "import seaborn as sns\n",
        "%matplotlib inline"
      ],
      "execution_count": 1,
      "outputs": []
    },
    {
      "cell_type": "code",
      "metadata": {
        "colab": {
          "base_uri": "https://localhost:8080/"
        },
        "id": "IaJQipl18z1o",
        "outputId": "61044979-b28a-4697-d824-05dd9176696c"
      },
      "source": [
        "glob('/content/drive/MyDrive/datasets/gasstation/지역*.xls')"
      ],
      "execution_count": 2,
      "outputs": [
        {
          "output_type": "execute_result",
          "data": {
            "text/plain": [
              "['/content/drive/MyDrive/datasets/gasstation/지역_위치별(주유소) (21).xls',\n",
              " '/content/drive/MyDrive/datasets/gasstation/지역_위치별(주유소) (14).xls',\n",
              " '/content/drive/MyDrive/datasets/gasstation/지역_위치별(주유소) (8).xls',\n",
              " '/content/drive/MyDrive/datasets/gasstation/지역_위치별(주유소) (7).xls',\n",
              " '/content/drive/MyDrive/datasets/gasstation/지역_위치별(주유소) (6).xls',\n",
              " '/content/drive/MyDrive/datasets/gasstation/지역_위치별(주유소) (10).xls',\n",
              " '/content/drive/MyDrive/datasets/gasstation/지역_위치별(주유소) (16).xls',\n",
              " '/content/drive/MyDrive/datasets/gasstation/지역_위치별(주유소) (4).xls',\n",
              " '/content/drive/MyDrive/datasets/gasstation/지역_위치별(주유소) (19).xls',\n",
              " '/content/drive/MyDrive/datasets/gasstation/지역_위치별(주유소) (22).xls',\n",
              " '/content/drive/MyDrive/datasets/gasstation/지역_위치별(주유소) (12).xls',\n",
              " '/content/drive/MyDrive/datasets/gasstation/지역_위치별(주유소) (15).xls',\n",
              " '/content/drive/MyDrive/datasets/gasstation/지역_위치별(주유소) (23).xls',\n",
              " '/content/drive/MyDrive/datasets/gasstation/지역_위치별(주유소).xls',\n",
              " '/content/drive/MyDrive/datasets/gasstation/지역_위치별(주유소) (18).xls',\n",
              " '/content/drive/MyDrive/datasets/gasstation/지역_위치별(주유소) (3).xls',\n",
              " '/content/drive/MyDrive/datasets/gasstation/지역_위치별(주유소) (17).xls',\n",
              " '/content/drive/MyDrive/datasets/gasstation/지역_위치별(주유소) (24).xls',\n",
              " '/content/drive/MyDrive/datasets/gasstation/지역_위치별(주유소) (20).xls',\n",
              " '/content/drive/MyDrive/datasets/gasstation/지역_위치별(주유소) (13).xls',\n",
              " '/content/drive/MyDrive/datasets/gasstation/지역_위치별(주유소) (2).xls',\n",
              " '/content/drive/MyDrive/datasets/gasstation/지역_위치별(주유소) (5).xls',\n",
              " '/content/drive/MyDrive/datasets/gasstation/지역_위치별(주유소) (11).xls',\n",
              " '/content/drive/MyDrive/datasets/gasstation/지역_위치별(주유소) (9).xls',\n",
              " '/content/drive/MyDrive/datasets/gasstation/지역_위치별(주유소) (1).xls']"
            ]
          },
          "metadata": {
            "tags": []
          },
          "execution_count": 2
        }
      ]
    },
    {
      "cell_type": "code",
      "metadata": {
        "colab": {
          "base_uri": "https://localhost:8080/"
        },
        "id": "iJpXfI4G84ER",
        "outputId": "095535fd-7752-4bca-8153-3aa045c874ec"
      },
      "source": [
        "stations = glob('/content/drive/MyDrive/datasets/gasstation/지역*.xls')\n",
        "stations"
      ],
      "execution_count": 3,
      "outputs": [
        {
          "output_type": "execute_result",
          "data": {
            "text/plain": [
              "['/content/drive/MyDrive/datasets/gasstation/지역_위치별(주유소) (21).xls',\n",
              " '/content/drive/MyDrive/datasets/gasstation/지역_위치별(주유소) (14).xls',\n",
              " '/content/drive/MyDrive/datasets/gasstation/지역_위치별(주유소) (8).xls',\n",
              " '/content/drive/MyDrive/datasets/gasstation/지역_위치별(주유소) (7).xls',\n",
              " '/content/drive/MyDrive/datasets/gasstation/지역_위치별(주유소) (6).xls',\n",
              " '/content/drive/MyDrive/datasets/gasstation/지역_위치별(주유소) (10).xls',\n",
              " '/content/drive/MyDrive/datasets/gasstation/지역_위치별(주유소) (16).xls',\n",
              " '/content/drive/MyDrive/datasets/gasstation/지역_위치별(주유소) (4).xls',\n",
              " '/content/drive/MyDrive/datasets/gasstation/지역_위치별(주유소) (19).xls',\n",
              " '/content/drive/MyDrive/datasets/gasstation/지역_위치별(주유소) (22).xls',\n",
              " '/content/drive/MyDrive/datasets/gasstation/지역_위치별(주유소) (12).xls',\n",
              " '/content/drive/MyDrive/datasets/gasstation/지역_위치별(주유소) (15).xls',\n",
              " '/content/drive/MyDrive/datasets/gasstation/지역_위치별(주유소) (23).xls',\n",
              " '/content/drive/MyDrive/datasets/gasstation/지역_위치별(주유소).xls',\n",
              " '/content/drive/MyDrive/datasets/gasstation/지역_위치별(주유소) (18).xls',\n",
              " '/content/drive/MyDrive/datasets/gasstation/지역_위치별(주유소) (3).xls',\n",
              " '/content/drive/MyDrive/datasets/gasstation/지역_위치별(주유소) (17).xls',\n",
              " '/content/drive/MyDrive/datasets/gasstation/지역_위치별(주유소) (24).xls',\n",
              " '/content/drive/MyDrive/datasets/gasstation/지역_위치별(주유소) (20).xls',\n",
              " '/content/drive/MyDrive/datasets/gasstation/지역_위치별(주유소) (13).xls',\n",
              " '/content/drive/MyDrive/datasets/gasstation/지역_위치별(주유소) (2).xls',\n",
              " '/content/drive/MyDrive/datasets/gasstation/지역_위치별(주유소) (5).xls',\n",
              " '/content/drive/MyDrive/datasets/gasstation/지역_위치별(주유소) (11).xls',\n",
              " '/content/drive/MyDrive/datasets/gasstation/지역_위치별(주유소) (9).xls',\n",
              " '/content/drive/MyDrive/datasets/gasstation/지역_위치별(주유소) (1).xls']"
            ]
          },
          "metadata": {
            "tags": []
          },
          "execution_count": 3
        }
      ]
    },
    {
      "cell_type": "code",
      "metadata": {
        "id": "FwgMJ-4q9AEa"
      },
      "source": [
        "tmp_list = []\n",
        "for file in stations:\n",
        "  tmp = pd.read_excel(file,header=2)\n",
        "  tmp_list.append(tmp)\n",
        "\n",
        "station_con = pd.concat(tmp_list)"
      ],
      "execution_count": 4,
      "outputs": []
    },
    {
      "cell_type": "code",
      "metadata": {
        "colab": {
          "base_uri": "https://localhost:8080/",
          "height": 590
        },
        "id": "yerY9g0y9Slu",
        "outputId": "08d9d7c7-03ec-4ca0-99d0-7cbc92bc8337"
      },
      "source": [
        "station_con"
      ],
      "execution_count": 5,
      "outputs": [
        {
          "output_type": "execute_result",
          "data": {
            "text/html": [
              "<div>\n",
              "<style scoped>\n",
              "    .dataframe tbody tr th:only-of-type {\n",
              "        vertical-align: middle;\n",
              "    }\n",
              "\n",
              "    .dataframe tbody tr th {\n",
              "        vertical-align: top;\n",
              "    }\n",
              "\n",
              "    .dataframe thead th {\n",
              "        text-align: right;\n",
              "    }\n",
              "</style>\n",
              "<table border=\"1\" class=\"dataframe\">\n",
              "  <thead>\n",
              "    <tr style=\"text-align: right;\">\n",
              "      <th></th>\n",
              "      <th>지역</th>\n",
              "      <th>상호</th>\n",
              "      <th>주소</th>\n",
              "      <th>상표</th>\n",
              "      <th>전화번호</th>\n",
              "      <th>셀프여부</th>\n",
              "      <th>고급휘발유</th>\n",
              "      <th>휘발유</th>\n",
              "      <th>경유</th>\n",
              "      <th>실내등유</th>\n",
              "    </tr>\n",
              "  </thead>\n",
              "  <tbody>\n",
              "    <tr>\n",
              "      <th>0</th>\n",
              "      <td>서울특별시</td>\n",
              "      <td>수색뉴타운</td>\n",
              "      <td>서울특별시 은평구  수색로 350 (수색동)</td>\n",
              "      <td>GS칼텍스</td>\n",
              "      <td>02-309-5051</td>\n",
              "      <td>Y</td>\n",
              "      <td>-</td>\n",
              "      <td>1505</td>\n",
              "      <td>1305</td>\n",
              "      <td>-</td>\n",
              "    </tr>\n",
              "    <tr>\n",
              "      <th>1</th>\n",
              "      <td>서울특별시</td>\n",
              "      <td>타이거주유소</td>\n",
              "      <td>서울 은평구 수색로 188 (증산동)</td>\n",
              "      <td>SK에너지</td>\n",
              "      <td>02-309-9145</td>\n",
              "      <td>N</td>\n",
              "      <td>-</td>\n",
              "      <td>1519</td>\n",
              "      <td>1319</td>\n",
              "      <td>1000</td>\n",
              "    </tr>\n",
              "    <tr>\n",
              "      <th>2</th>\n",
              "      <td>서울특별시</td>\n",
              "      <td>(주)명연에너지 수색훼미리주유소</td>\n",
              "      <td>서울 은평구 수색로 236 (수색동)</td>\n",
              "      <td>현대오일뱅크</td>\n",
              "      <td>02-374-8770</td>\n",
              "      <td>Y</td>\n",
              "      <td>-</td>\n",
              "      <td>1519</td>\n",
              "      <td>1319</td>\n",
              "      <td>-</td>\n",
              "    </tr>\n",
              "    <tr>\n",
              "      <th>3</th>\n",
              "      <td>서울특별시</td>\n",
              "      <td>다회주유소</td>\n",
              "      <td>서울 은평구 증산로 441 (신사동)</td>\n",
              "      <td>S-OIL</td>\n",
              "      <td>02-375-5156</td>\n",
              "      <td>Y</td>\n",
              "      <td>-</td>\n",
              "      <td>1524</td>\n",
              "      <td>1324</td>\n",
              "      <td>-</td>\n",
              "    </tr>\n",
              "    <tr>\n",
              "      <th>4</th>\n",
              "      <td>서울특별시</td>\n",
              "      <td>신사제일주유소</td>\n",
              "      <td>서울특별시 은평구  증산로 423 (신사동)</td>\n",
              "      <td>GS칼텍스</td>\n",
              "      <td>02-308-4333</td>\n",
              "      <td>N</td>\n",
              "      <td>1760</td>\n",
              "      <td>1524</td>\n",
              "      <td>1324</td>\n",
              "      <td>1000</td>\n",
              "    </tr>\n",
              "    <tr>\n",
              "      <th>...</th>\n",
              "      <td>...</td>\n",
              "      <td>...</td>\n",
              "      <td>...</td>\n",
              "      <td>...</td>\n",
              "      <td>...</td>\n",
              "      <td>...</td>\n",
              "      <td>...</td>\n",
              "      <td>...</td>\n",
              "      <td>...</td>\n",
              "      <td>...</td>\n",
              "    </tr>\n",
              "    <tr>\n",
              "      <th>14</th>\n",
              "      <td>서울특별시</td>\n",
              "      <td>고속셀프주유소</td>\n",
              "      <td>서울특별시 강동구  천호대로 1246 (둔촌동)</td>\n",
              "      <td>SK에너지</td>\n",
              "      <td>02-487-2030</td>\n",
              "      <td>Y</td>\n",
              "      <td>1889</td>\n",
              "      <td>1733</td>\n",
              "      <td>1533</td>\n",
              "      <td>1157</td>\n",
              "    </tr>\n",
              "    <tr>\n",
              "      <th>15</th>\n",
              "      <td>서울특별시</td>\n",
              "      <td>SK네트윅스(주)한미주유소</td>\n",
              "      <td>서울 강동구 성내로 32 (성내동)</td>\n",
              "      <td>SK에너지</td>\n",
              "      <td>02-473-1981</td>\n",
              "      <td>N</td>\n",
              "      <td>-</td>\n",
              "      <td>1763</td>\n",
              "      <td>1563</td>\n",
              "      <td>1006</td>\n",
              "    </tr>\n",
              "    <tr>\n",
              "      <th>16</th>\n",
              "      <td>서울특별시</td>\n",
              "      <td>명일주유소</td>\n",
              "      <td>서울 강동구 고덕로 168 (명일동)</td>\n",
              "      <td>SK에너지</td>\n",
              "      <td>02-3428-1739</td>\n",
              "      <td>N</td>\n",
              "      <td>1914</td>\n",
              "      <td>1764</td>\n",
              "      <td>1574</td>\n",
              "      <td>-</td>\n",
              "    </tr>\n",
              "    <tr>\n",
              "      <th>17</th>\n",
              "      <td>서울특별시</td>\n",
              "      <td>강동주유소</td>\n",
              "      <td>서울 강동구 양재대로 1509 (길동)</td>\n",
              "      <td>SK에너지</td>\n",
              "      <td>02-477-5101</td>\n",
              "      <td>N</td>\n",
              "      <td>2258</td>\n",
              "      <td>1983</td>\n",
              "      <td>1784</td>\n",
              "      <td>1289</td>\n",
              "    </tr>\n",
              "    <tr>\n",
              "      <th>18</th>\n",
              "      <td>서울특별시</td>\n",
              "      <td>명진석유(주)동서울주유소</td>\n",
              "      <td>서울특별시 강동구  천호대로 1456 (상일동)</td>\n",
              "      <td>GS칼텍스</td>\n",
              "      <td>02-427-5230</td>\n",
              "      <td>Y</td>\n",
              "      <td>-</td>\n",
              "      <td>-</td>\n",
              "      <td>-</td>\n",
              "      <td>-</td>\n",
              "    </tr>\n",
              "  </tbody>\n",
              "</table>\n",
              "<p>537 rows × 10 columns</p>\n",
              "</div>"
            ],
            "text/plain": [
              "       지역                 상호                          주소  ...   휘발유    경유  실내등유\n",
              "0   서울특별시              수색뉴타운    서울특별시 은평구  수색로 350 (수색동)  ...  1505  1305     -\n",
              "1   서울특별시             타이거주유소        서울 은평구 수색로 188 (증산동)  ...  1519  1319  1000\n",
              "2   서울특별시  (주)명연에너지 수색훼미리주유소        서울 은평구 수색로 236 (수색동)  ...  1519  1319     -\n",
              "3   서울특별시              다회주유소        서울 은평구 증산로 441 (신사동)  ...  1524  1324     -\n",
              "4   서울특별시            신사제일주유소    서울특별시 은평구  증산로 423 (신사동)  ...  1524  1324  1000\n",
              "..    ...                ...                         ...  ...   ...   ...   ...\n",
              "14  서울특별시            고속셀프주유소  서울특별시 강동구  천호대로 1246 (둔촌동)  ...  1733  1533  1157\n",
              "15  서울특별시     SK네트윅스(주)한미주유소         서울 강동구 성내로 32 (성내동)  ...  1763  1563  1006\n",
              "16  서울특별시              명일주유소        서울 강동구 고덕로 168 (명일동)  ...  1764  1574     -\n",
              "17  서울특별시              강동주유소       서울 강동구 양재대로 1509 (길동)  ...  1983  1784  1289\n",
              "18  서울특별시      명진석유(주)동서울주유소  서울특별시 강동구  천호대로 1456 (상일동)  ...     -     -     -\n",
              "\n",
              "[537 rows x 10 columns]"
            ]
          },
          "metadata": {
            "tags": []
          },
          "execution_count": 5
        }
      ]
    },
    {
      "cell_type": "code",
      "metadata": {
        "colab": {
          "base_uri": "https://localhost:8080/"
        },
        "id": "W7yhPQpG9Zrh",
        "outputId": "f3afd1cc-f3d1-4615-8462-5ac8c326af70"
      },
      "source": [
        "station_con.info()"
      ],
      "execution_count": 6,
      "outputs": [
        {
          "output_type": "stream",
          "text": [
            "<class 'pandas.core.frame.DataFrame'>\n",
            "Int64Index: 537 entries, 0 to 18\n",
            "Data columns (total 10 columns):\n",
            " #   Column  Non-Null Count  Dtype \n",
            "---  ------  --------------  ----- \n",
            " 0   지역      537 non-null    object\n",
            " 1   상호      537 non-null    object\n",
            " 2   주소      537 non-null    object\n",
            " 3   상표      537 non-null    object\n",
            " 4   전화번호    537 non-null    object\n",
            " 5   셀프여부    537 non-null    object\n",
            " 6   고급휘발유   537 non-null    object\n",
            " 7   휘발유     537 non-null    object\n",
            " 8   경유      537 non-null    object\n",
            " 9   실내등유    537 non-null    object\n",
            "dtypes: object(10)\n",
            "memory usage: 46.1+ KB\n"
          ],
          "name": "stdout"
        }
      ]
    },
    {
      "cell_type": "code",
      "metadata": {
        "id": "YK9fXj1x9hP1"
      },
      "source": [
        "station_result = pd.DataFrame({'GasStation':station_con['상호'],\n",
        "                               'Address':station_con['주소'],\n",
        "                               'Price':station_con['휘발유'],\n",
        "                               'Self':station_con['셀프여부'],\n",
        "                               'Logo':station_con['상표']})"
      ],
      "execution_count": 7,
      "outputs": []
    },
    {
      "cell_type": "code",
      "metadata": {
        "colab": {
          "base_uri": "https://localhost:8080/",
          "height": 406
        },
        "id": "UOd0Ni779-J1",
        "outputId": "90a917bd-b2ae-411b-a533-37c8543f53a9"
      },
      "source": [
        "station_result"
      ],
      "execution_count": 8,
      "outputs": [
        {
          "output_type": "execute_result",
          "data": {
            "text/html": [
              "<div>\n",
              "<style scoped>\n",
              "    .dataframe tbody tr th:only-of-type {\n",
              "        vertical-align: middle;\n",
              "    }\n",
              "\n",
              "    .dataframe tbody tr th {\n",
              "        vertical-align: top;\n",
              "    }\n",
              "\n",
              "    .dataframe thead th {\n",
              "        text-align: right;\n",
              "    }\n",
              "</style>\n",
              "<table border=\"1\" class=\"dataframe\">\n",
              "  <thead>\n",
              "    <tr style=\"text-align: right;\">\n",
              "      <th></th>\n",
              "      <th>GasStation</th>\n",
              "      <th>Address</th>\n",
              "      <th>Price</th>\n",
              "      <th>Self</th>\n",
              "      <th>Logo</th>\n",
              "    </tr>\n",
              "  </thead>\n",
              "  <tbody>\n",
              "    <tr>\n",
              "      <th>0</th>\n",
              "      <td>수색뉴타운</td>\n",
              "      <td>서울특별시 은평구  수색로 350 (수색동)</td>\n",
              "      <td>1505</td>\n",
              "      <td>Y</td>\n",
              "      <td>GS칼텍스</td>\n",
              "    </tr>\n",
              "    <tr>\n",
              "      <th>1</th>\n",
              "      <td>타이거주유소</td>\n",
              "      <td>서울 은평구 수색로 188 (증산동)</td>\n",
              "      <td>1519</td>\n",
              "      <td>N</td>\n",
              "      <td>SK에너지</td>\n",
              "    </tr>\n",
              "    <tr>\n",
              "      <th>2</th>\n",
              "      <td>(주)명연에너지 수색훼미리주유소</td>\n",
              "      <td>서울 은평구 수색로 236 (수색동)</td>\n",
              "      <td>1519</td>\n",
              "      <td>Y</td>\n",
              "      <td>현대오일뱅크</td>\n",
              "    </tr>\n",
              "    <tr>\n",
              "      <th>3</th>\n",
              "      <td>다회주유소</td>\n",
              "      <td>서울 은평구 증산로 441 (신사동)</td>\n",
              "      <td>1524</td>\n",
              "      <td>Y</td>\n",
              "      <td>S-OIL</td>\n",
              "    </tr>\n",
              "    <tr>\n",
              "      <th>4</th>\n",
              "      <td>신사제일주유소</td>\n",
              "      <td>서울특별시 은평구  증산로 423 (신사동)</td>\n",
              "      <td>1524</td>\n",
              "      <td>N</td>\n",
              "      <td>GS칼텍스</td>\n",
              "    </tr>\n",
              "    <tr>\n",
              "      <th>...</th>\n",
              "      <td>...</td>\n",
              "      <td>...</td>\n",
              "      <td>...</td>\n",
              "      <td>...</td>\n",
              "      <td>...</td>\n",
              "    </tr>\n",
              "    <tr>\n",
              "      <th>14</th>\n",
              "      <td>고속셀프주유소</td>\n",
              "      <td>서울특별시 강동구  천호대로 1246 (둔촌동)</td>\n",
              "      <td>1733</td>\n",
              "      <td>Y</td>\n",
              "      <td>SK에너지</td>\n",
              "    </tr>\n",
              "    <tr>\n",
              "      <th>15</th>\n",
              "      <td>SK네트윅스(주)한미주유소</td>\n",
              "      <td>서울 강동구 성내로 32 (성내동)</td>\n",
              "      <td>1763</td>\n",
              "      <td>N</td>\n",
              "      <td>SK에너지</td>\n",
              "    </tr>\n",
              "    <tr>\n",
              "      <th>16</th>\n",
              "      <td>명일주유소</td>\n",
              "      <td>서울 강동구 고덕로 168 (명일동)</td>\n",
              "      <td>1764</td>\n",
              "      <td>N</td>\n",
              "      <td>SK에너지</td>\n",
              "    </tr>\n",
              "    <tr>\n",
              "      <th>17</th>\n",
              "      <td>강동주유소</td>\n",
              "      <td>서울 강동구 양재대로 1509 (길동)</td>\n",
              "      <td>1983</td>\n",
              "      <td>N</td>\n",
              "      <td>SK에너지</td>\n",
              "    </tr>\n",
              "    <tr>\n",
              "      <th>18</th>\n",
              "      <td>명진석유(주)동서울주유소</td>\n",
              "      <td>서울특별시 강동구  천호대로 1456 (상일동)</td>\n",
              "      <td>-</td>\n",
              "      <td>Y</td>\n",
              "      <td>GS칼텍스</td>\n",
              "    </tr>\n",
              "  </tbody>\n",
              "</table>\n",
              "<p>537 rows × 5 columns</p>\n",
              "</div>"
            ],
            "text/plain": [
              "           GasStation                     Address Price Self    Logo\n",
              "0               수색뉴타운    서울특별시 은평구  수색로 350 (수색동)  1505    Y   GS칼텍스\n",
              "1              타이거주유소        서울 은평구 수색로 188 (증산동)  1519    N   SK에너지\n",
              "2   (주)명연에너지 수색훼미리주유소        서울 은평구 수색로 236 (수색동)  1519    Y  현대오일뱅크\n",
              "3               다회주유소        서울 은평구 증산로 441 (신사동)  1524    Y   S-OIL\n",
              "4             신사제일주유소    서울특별시 은평구  증산로 423 (신사동)  1524    N   GS칼텍스\n",
              "..                ...                         ...   ...  ...     ...\n",
              "14            고속셀프주유소  서울특별시 강동구  천호대로 1246 (둔촌동)  1733    Y   SK에너지\n",
              "15     SK네트윅스(주)한미주유소         서울 강동구 성내로 32 (성내동)  1763    N   SK에너지\n",
              "16              명일주유소        서울 강동구 고덕로 168 (명일동)  1764    N   SK에너지\n",
              "17              강동주유소       서울 강동구 양재대로 1509 (길동)  1983    N   SK에너지\n",
              "18      명진석유(주)동서울주유소  서울특별시 강동구  천호대로 1456 (상일동)     -    Y   GS칼텍스\n",
              "\n",
              "[537 rows x 5 columns]"
            ]
          },
          "metadata": {
            "tags": []
          },
          "execution_count": 8
        }
      ]
    },
    {
      "cell_type": "code",
      "metadata": {
        "id": "UjEcBrnW9_y9"
      },
      "source": [
        "station_result['state'] = [eachAddress.split()[1] for eachAddress in station_result['Address']]"
      ],
      "execution_count": 9,
      "outputs": []
    },
    {
      "cell_type": "code",
      "metadata": {
        "colab": {
          "base_uri": "https://localhost:8080/",
          "height": 406
        },
        "id": "GI_FsCPS-YF3",
        "outputId": "40b7b8e4-e2b9-4704-925a-25c761e86cfe"
      },
      "source": [
        "station_result"
      ],
      "execution_count": 10,
      "outputs": [
        {
          "output_type": "execute_result",
          "data": {
            "text/html": [
              "<div>\n",
              "<style scoped>\n",
              "    .dataframe tbody tr th:only-of-type {\n",
              "        vertical-align: middle;\n",
              "    }\n",
              "\n",
              "    .dataframe tbody tr th {\n",
              "        vertical-align: top;\n",
              "    }\n",
              "\n",
              "    .dataframe thead th {\n",
              "        text-align: right;\n",
              "    }\n",
              "</style>\n",
              "<table border=\"1\" class=\"dataframe\">\n",
              "  <thead>\n",
              "    <tr style=\"text-align: right;\">\n",
              "      <th></th>\n",
              "      <th>GasStation</th>\n",
              "      <th>Address</th>\n",
              "      <th>Price</th>\n",
              "      <th>Self</th>\n",
              "      <th>Logo</th>\n",
              "      <th>state</th>\n",
              "    </tr>\n",
              "  </thead>\n",
              "  <tbody>\n",
              "    <tr>\n",
              "      <th>0</th>\n",
              "      <td>수색뉴타운</td>\n",
              "      <td>서울특별시 은평구  수색로 350 (수색동)</td>\n",
              "      <td>1505</td>\n",
              "      <td>Y</td>\n",
              "      <td>GS칼텍스</td>\n",
              "      <td>은평구</td>\n",
              "    </tr>\n",
              "    <tr>\n",
              "      <th>1</th>\n",
              "      <td>타이거주유소</td>\n",
              "      <td>서울 은평구 수색로 188 (증산동)</td>\n",
              "      <td>1519</td>\n",
              "      <td>N</td>\n",
              "      <td>SK에너지</td>\n",
              "      <td>은평구</td>\n",
              "    </tr>\n",
              "    <tr>\n",
              "      <th>2</th>\n",
              "      <td>(주)명연에너지 수색훼미리주유소</td>\n",
              "      <td>서울 은평구 수색로 236 (수색동)</td>\n",
              "      <td>1519</td>\n",
              "      <td>Y</td>\n",
              "      <td>현대오일뱅크</td>\n",
              "      <td>은평구</td>\n",
              "    </tr>\n",
              "    <tr>\n",
              "      <th>3</th>\n",
              "      <td>다회주유소</td>\n",
              "      <td>서울 은평구 증산로 441 (신사동)</td>\n",
              "      <td>1524</td>\n",
              "      <td>Y</td>\n",
              "      <td>S-OIL</td>\n",
              "      <td>은평구</td>\n",
              "    </tr>\n",
              "    <tr>\n",
              "      <th>4</th>\n",
              "      <td>신사제일주유소</td>\n",
              "      <td>서울특별시 은평구  증산로 423 (신사동)</td>\n",
              "      <td>1524</td>\n",
              "      <td>N</td>\n",
              "      <td>GS칼텍스</td>\n",
              "      <td>은평구</td>\n",
              "    </tr>\n",
              "    <tr>\n",
              "      <th>...</th>\n",
              "      <td>...</td>\n",
              "      <td>...</td>\n",
              "      <td>...</td>\n",
              "      <td>...</td>\n",
              "      <td>...</td>\n",
              "      <td>...</td>\n",
              "    </tr>\n",
              "    <tr>\n",
              "      <th>14</th>\n",
              "      <td>고속셀프주유소</td>\n",
              "      <td>서울특별시 강동구  천호대로 1246 (둔촌동)</td>\n",
              "      <td>1733</td>\n",
              "      <td>Y</td>\n",
              "      <td>SK에너지</td>\n",
              "      <td>강동구</td>\n",
              "    </tr>\n",
              "    <tr>\n",
              "      <th>15</th>\n",
              "      <td>SK네트윅스(주)한미주유소</td>\n",
              "      <td>서울 강동구 성내로 32 (성내동)</td>\n",
              "      <td>1763</td>\n",
              "      <td>N</td>\n",
              "      <td>SK에너지</td>\n",
              "      <td>강동구</td>\n",
              "    </tr>\n",
              "    <tr>\n",
              "      <th>16</th>\n",
              "      <td>명일주유소</td>\n",
              "      <td>서울 강동구 고덕로 168 (명일동)</td>\n",
              "      <td>1764</td>\n",
              "      <td>N</td>\n",
              "      <td>SK에너지</td>\n",
              "      <td>강동구</td>\n",
              "    </tr>\n",
              "    <tr>\n",
              "      <th>17</th>\n",
              "      <td>강동주유소</td>\n",
              "      <td>서울 강동구 양재대로 1509 (길동)</td>\n",
              "      <td>1983</td>\n",
              "      <td>N</td>\n",
              "      <td>SK에너지</td>\n",
              "      <td>강동구</td>\n",
              "    </tr>\n",
              "    <tr>\n",
              "      <th>18</th>\n",
              "      <td>명진석유(주)동서울주유소</td>\n",
              "      <td>서울특별시 강동구  천호대로 1456 (상일동)</td>\n",
              "      <td>-</td>\n",
              "      <td>Y</td>\n",
              "      <td>GS칼텍스</td>\n",
              "      <td>강동구</td>\n",
              "    </tr>\n",
              "  </tbody>\n",
              "</table>\n",
              "<p>537 rows × 6 columns</p>\n",
              "</div>"
            ],
            "text/plain": [
              "           GasStation                     Address Price Self    Logo state\n",
              "0               수색뉴타운    서울특별시 은평구  수색로 350 (수색동)  1505    Y   GS칼텍스   은평구\n",
              "1              타이거주유소        서울 은평구 수색로 188 (증산동)  1519    N   SK에너지   은평구\n",
              "2   (주)명연에너지 수색훼미리주유소        서울 은평구 수색로 236 (수색동)  1519    Y  현대오일뱅크   은평구\n",
              "3               다회주유소        서울 은평구 증산로 441 (신사동)  1524    Y   S-OIL   은평구\n",
              "4             신사제일주유소    서울특별시 은평구  증산로 423 (신사동)  1524    N   GS칼텍스   은평구\n",
              "..                ...                         ...   ...  ...     ...   ...\n",
              "14            고속셀프주유소  서울특별시 강동구  천호대로 1246 (둔촌동)  1733    Y   SK에너지   강동구\n",
              "15     SK네트윅스(주)한미주유소         서울 강동구 성내로 32 (성내동)  1763    N   SK에너지   강동구\n",
              "16              명일주유소        서울 강동구 고덕로 168 (명일동)  1764    N   SK에너지   강동구\n",
              "17              강동주유소       서울 강동구 양재대로 1509 (길동)  1983    N   SK에너지   강동구\n",
              "18      명진석유(주)동서울주유소  서울특별시 강동구  천호대로 1456 (상일동)     -    Y   GS칼텍스   강동구\n",
              "\n",
              "[537 rows x 6 columns]"
            ]
          },
          "metadata": {
            "tags": []
          },
          "execution_count": 10
        }
      ]
    },
    {
      "cell_type": "code",
      "metadata": {
        "colab": {
          "base_uri": "https://localhost:8080/"
        },
        "id": "z67gdUop-ZoJ",
        "outputId": "77d96c6f-6df0-4645-b21b-a45ebaa66a7f"
      },
      "source": [
        "station_result['state'].unique()"
      ],
      "execution_count": 11,
      "outputs": [
        {
          "output_type": "execute_result",
          "data": {
            "text/plain": [
              "array(['은평구', '서초구', '노원구', '금천구', '구로구', '동대문구', '성북구', '관악구', '영등포구',\n",
              "       '종로구', '마포구', '성동구', '서울특별시', '중구', '강남구', '양천구', '강서구', '송파구',\n",
              "       '중랑구', '용산구', '서대문구', '강북구', '광진구', '동작구', '도봉구', '특별시', '강동구'],\n",
              "      dtype=object)"
            ]
          },
          "metadata": {
            "tags": []
          },
          "execution_count": 11
        }
      ]
    },
    {
      "cell_type": "code",
      "metadata": {
        "colab": {
          "base_uri": "https://localhost:8080/",
          "height": 77
        },
        "id": "gfqEIRRF-dzI",
        "outputId": "cb720298-ad83-4b84-cac7-186fba5a4a2a"
      },
      "source": [
        "station_result[station_result['state']=='서울특별시']"
      ],
      "execution_count": 12,
      "outputs": [
        {
          "output_type": "execute_result",
          "data": {
            "text/html": [
              "<div>\n",
              "<style scoped>\n",
              "    .dataframe tbody tr th:only-of-type {\n",
              "        vertical-align: middle;\n",
              "    }\n",
              "\n",
              "    .dataframe tbody tr th {\n",
              "        vertical-align: top;\n",
              "    }\n",
              "\n",
              "    .dataframe thead th {\n",
              "        text-align: right;\n",
              "    }\n",
              "</style>\n",
              "<table border=\"1\" class=\"dataframe\">\n",
              "  <thead>\n",
              "    <tr style=\"text-align: right;\">\n",
              "      <th></th>\n",
              "      <th>GasStation</th>\n",
              "      <th>Address</th>\n",
              "      <th>Price</th>\n",
              "      <th>Self</th>\n",
              "      <th>Logo</th>\n",
              "      <th>state</th>\n",
              "    </tr>\n",
              "  </thead>\n",
              "  <tbody>\n",
              "    <tr>\n",
              "      <th>12</th>\n",
              "      <td>SK네트웍스(주)효진주유소</td>\n",
              "      <td>1 서울특별시 성동구 동일로 129 (성수동2가)</td>\n",
              "      <td>1654</td>\n",
              "      <td>N</td>\n",
              "      <td>SK에너지</td>\n",
              "      <td>서울특별시</td>\n",
              "    </tr>\n",
              "  </tbody>\n",
              "</table>\n",
              "</div>"
            ],
            "text/plain": [
              "        GasStation                      Address Price Self   Logo  state\n",
              "12  SK네트웍스(주)효진주유소  1 서울특별시 성동구 동일로 129 (성수동2가)  1654    N  SK에너지  서울특별시"
            ]
          },
          "metadata": {
            "tags": []
          },
          "execution_count": 12
        }
      ]
    },
    {
      "cell_type": "code",
      "metadata": {
        "id": "FSCCac1F-pkv"
      },
      "source": [
        "station_result.loc[station_result['state']=='서울특별시','state'] = '성동구'"
      ],
      "execution_count": 13,
      "outputs": []
    },
    {
      "cell_type": "code",
      "metadata": {
        "colab": {
          "base_uri": "https://localhost:8080/"
        },
        "id": "SjOXRYnL-x_n",
        "outputId": "7ddc485d-e5d1-4073-e1fe-bb7e25cda2df"
      },
      "source": [
        "station_result['state'].unique()"
      ],
      "execution_count": 14,
      "outputs": [
        {
          "output_type": "execute_result",
          "data": {
            "text/plain": [
              "array(['은평구', '서초구', '노원구', '금천구', '구로구', '동대문구', '성북구', '관악구', '영등포구',\n",
              "       '종로구', '마포구', '성동구', '중구', '강남구', '양천구', '강서구', '송파구', '중랑구',\n",
              "       '용산구', '서대문구', '강북구', '광진구', '동작구', '도봉구', '특별시', '강동구'],\n",
              "      dtype=object)"
            ]
          },
          "metadata": {
            "tags": []
          },
          "execution_count": 14
        }
      ]
    },
    {
      "cell_type": "code",
      "metadata": {
        "colab": {
          "base_uri": "https://localhost:8080/"
        },
        "id": "I73t08MW-1Zu",
        "outputId": "ae1ad92b-2682-40f9-fb06-e83d5e9f9177"
      },
      "source": [
        "station_result.loc[station_result['state']=='특별시','state'] = '도봉구'\n",
        "station_result['state'].unique()"
      ],
      "execution_count": 15,
      "outputs": [
        {
          "output_type": "execute_result",
          "data": {
            "text/plain": [
              "array(['은평구', '서초구', '노원구', '금천구', '구로구', '동대문구', '성북구', '관악구', '영등포구',\n",
              "       '종로구', '마포구', '성동구', '중구', '강남구', '양천구', '강서구', '송파구', '중랑구',\n",
              "       '용산구', '서대문구', '강북구', '광진구', '동작구', '도봉구', '강동구'], dtype=object)"
            ]
          },
          "metadata": {
            "tags": []
          },
          "execution_count": 15
        }
      ]
    },
    {
      "cell_type": "code",
      "metadata": {
        "colab": {
          "base_uri": "https://localhost:8080/",
          "height": 167
        },
        "id": "vIFr-E86-5nE",
        "outputId": "be3dd198-3dcf-427a-eb49-e0c239f59244"
      },
      "source": [
        "station_result[station_result['Price']=='-']"
      ],
      "execution_count": 16,
      "outputs": [
        {
          "output_type": "execute_result",
          "data": {
            "text/html": [
              "<div>\n",
              "<style scoped>\n",
              "    .dataframe tbody tr th:only-of-type {\n",
              "        vertical-align: middle;\n",
              "    }\n",
              "\n",
              "    .dataframe tbody tr th {\n",
              "        vertical-align: top;\n",
              "    }\n",
              "\n",
              "    .dataframe thead th {\n",
              "        text-align: right;\n",
              "    }\n",
              "</style>\n",
              "<table border=\"1\" class=\"dataframe\">\n",
              "  <thead>\n",
              "    <tr style=\"text-align: right;\">\n",
              "      <th></th>\n",
              "      <th>GasStation</th>\n",
              "      <th>Address</th>\n",
              "      <th>Price</th>\n",
              "      <th>Self</th>\n",
              "      <th>Logo</th>\n",
              "      <th>state</th>\n",
              "    </tr>\n",
              "  </thead>\n",
              "  <tbody>\n",
              "    <tr>\n",
              "      <th>33</th>\n",
              "      <td>하나주유소</td>\n",
              "      <td>서울특별시 영등포구  도림로 236 (신길동)</td>\n",
              "      <td>-</td>\n",
              "      <td>N</td>\n",
              "      <td>S-OIL</td>\n",
              "      <td>영등포구</td>\n",
              "    </tr>\n",
              "    <tr>\n",
              "      <th>12</th>\n",
              "      <td>(주)에이앤이청담주유소</td>\n",
              "      <td>서울특별시 강북구 도봉로 155  (미아동)</td>\n",
              "      <td>-</td>\n",
              "      <td>Y</td>\n",
              "      <td>SK에너지</td>\n",
              "      <td>강북구</td>\n",
              "    </tr>\n",
              "    <tr>\n",
              "      <th>13</th>\n",
              "      <td>송정주유소</td>\n",
              "      <td>서울특별시 강북구 인수봉로 185 (수유동)</td>\n",
              "      <td>-</td>\n",
              "      <td>N</td>\n",
              "      <td>자가상표</td>\n",
              "      <td>강북구</td>\n",
              "    </tr>\n",
              "    <tr>\n",
              "      <th>18</th>\n",
              "      <td>명진석유(주)동서울주유소</td>\n",
              "      <td>서울특별시 강동구  천호대로 1456 (상일동)</td>\n",
              "      <td>-</td>\n",
              "      <td>Y</td>\n",
              "      <td>GS칼텍스</td>\n",
              "      <td>강동구</td>\n",
              "    </tr>\n",
              "  </tbody>\n",
              "</table>\n",
              "</div>"
            ],
            "text/plain": [
              "       GasStation                     Address Price Self   Logo state\n",
              "33          하나주유소   서울특별시 영등포구  도림로 236 (신길동)     -    N  S-OIL  영등포구\n",
              "12   (주)에이앤이청담주유소    서울특별시 강북구 도봉로 155  (미아동)     -    Y  SK에너지   강북구\n",
              "13          송정주유소    서울특별시 강북구 인수봉로 185 (수유동)     -    N   자가상표   강북구\n",
              "18  명진석유(주)동서울주유소  서울특별시 강동구  천호대로 1456 (상일동)     -    Y  GS칼텍스   강동구"
            ]
          },
          "metadata": {
            "tags": []
          },
          "execution_count": 16
        }
      ]
    },
    {
      "cell_type": "code",
      "metadata": {
        "id": "Ll58_3_2_Aj8"
      },
      "source": [
        "station_result = station_result[station_result['Price']!='-']"
      ],
      "execution_count": 17,
      "outputs": []
    },
    {
      "cell_type": "code",
      "metadata": {
        "colab": {
          "base_uri": "https://localhost:8080/",
          "height": 406
        },
        "id": "rMVz7F_6_GS9",
        "outputId": "bc5eafbb-6eb9-4af7-947a-be98582b64ef"
      },
      "source": [
        "station_result"
      ],
      "execution_count": 18,
      "outputs": [
        {
          "output_type": "execute_result",
          "data": {
            "text/html": [
              "<div>\n",
              "<style scoped>\n",
              "    .dataframe tbody tr th:only-of-type {\n",
              "        vertical-align: middle;\n",
              "    }\n",
              "\n",
              "    .dataframe tbody tr th {\n",
              "        vertical-align: top;\n",
              "    }\n",
              "\n",
              "    .dataframe thead th {\n",
              "        text-align: right;\n",
              "    }\n",
              "</style>\n",
              "<table border=\"1\" class=\"dataframe\">\n",
              "  <thead>\n",
              "    <tr style=\"text-align: right;\">\n",
              "      <th></th>\n",
              "      <th>GasStation</th>\n",
              "      <th>Address</th>\n",
              "      <th>Price</th>\n",
              "      <th>Self</th>\n",
              "      <th>Logo</th>\n",
              "      <th>state</th>\n",
              "    </tr>\n",
              "  </thead>\n",
              "  <tbody>\n",
              "    <tr>\n",
              "      <th>0</th>\n",
              "      <td>수색뉴타운</td>\n",
              "      <td>서울특별시 은평구  수색로 350 (수색동)</td>\n",
              "      <td>1505</td>\n",
              "      <td>Y</td>\n",
              "      <td>GS칼텍스</td>\n",
              "      <td>은평구</td>\n",
              "    </tr>\n",
              "    <tr>\n",
              "      <th>1</th>\n",
              "      <td>타이거주유소</td>\n",
              "      <td>서울 은평구 수색로 188 (증산동)</td>\n",
              "      <td>1519</td>\n",
              "      <td>N</td>\n",
              "      <td>SK에너지</td>\n",
              "      <td>은평구</td>\n",
              "    </tr>\n",
              "    <tr>\n",
              "      <th>2</th>\n",
              "      <td>(주)명연에너지 수색훼미리주유소</td>\n",
              "      <td>서울 은평구 수색로 236 (수색동)</td>\n",
              "      <td>1519</td>\n",
              "      <td>Y</td>\n",
              "      <td>현대오일뱅크</td>\n",
              "      <td>은평구</td>\n",
              "    </tr>\n",
              "    <tr>\n",
              "      <th>3</th>\n",
              "      <td>다회주유소</td>\n",
              "      <td>서울 은평구 증산로 441 (신사동)</td>\n",
              "      <td>1524</td>\n",
              "      <td>Y</td>\n",
              "      <td>S-OIL</td>\n",
              "      <td>은평구</td>\n",
              "    </tr>\n",
              "    <tr>\n",
              "      <th>4</th>\n",
              "      <td>신사제일주유소</td>\n",
              "      <td>서울특별시 은평구  증산로 423 (신사동)</td>\n",
              "      <td>1524</td>\n",
              "      <td>N</td>\n",
              "      <td>GS칼텍스</td>\n",
              "      <td>은평구</td>\n",
              "    </tr>\n",
              "    <tr>\n",
              "      <th>...</th>\n",
              "      <td>...</td>\n",
              "      <td>...</td>\n",
              "      <td>...</td>\n",
              "      <td>...</td>\n",
              "      <td>...</td>\n",
              "      <td>...</td>\n",
              "    </tr>\n",
              "    <tr>\n",
              "      <th>13</th>\n",
              "      <td>SK네트윅스(주)길동주유소</td>\n",
              "      <td>서울 강동구 천호대로 1221 (길동)</td>\n",
              "      <td>1733</td>\n",
              "      <td>Y</td>\n",
              "      <td>SK에너지</td>\n",
              "      <td>강동구</td>\n",
              "    </tr>\n",
              "    <tr>\n",
              "      <th>14</th>\n",
              "      <td>고속셀프주유소</td>\n",
              "      <td>서울특별시 강동구  천호대로 1246 (둔촌동)</td>\n",
              "      <td>1733</td>\n",
              "      <td>Y</td>\n",
              "      <td>SK에너지</td>\n",
              "      <td>강동구</td>\n",
              "    </tr>\n",
              "    <tr>\n",
              "      <th>15</th>\n",
              "      <td>SK네트윅스(주)한미주유소</td>\n",
              "      <td>서울 강동구 성내로 32 (성내동)</td>\n",
              "      <td>1763</td>\n",
              "      <td>N</td>\n",
              "      <td>SK에너지</td>\n",
              "      <td>강동구</td>\n",
              "    </tr>\n",
              "    <tr>\n",
              "      <th>16</th>\n",
              "      <td>명일주유소</td>\n",
              "      <td>서울 강동구 고덕로 168 (명일동)</td>\n",
              "      <td>1764</td>\n",
              "      <td>N</td>\n",
              "      <td>SK에너지</td>\n",
              "      <td>강동구</td>\n",
              "    </tr>\n",
              "    <tr>\n",
              "      <th>17</th>\n",
              "      <td>강동주유소</td>\n",
              "      <td>서울 강동구 양재대로 1509 (길동)</td>\n",
              "      <td>1983</td>\n",
              "      <td>N</td>\n",
              "      <td>SK에너지</td>\n",
              "      <td>강동구</td>\n",
              "    </tr>\n",
              "  </tbody>\n",
              "</table>\n",
              "<p>533 rows × 6 columns</p>\n",
              "</div>"
            ],
            "text/plain": [
              "           GasStation                     Address Price Self    Logo state\n",
              "0               수색뉴타운    서울특별시 은평구  수색로 350 (수색동)  1505    Y   GS칼텍스   은평구\n",
              "1              타이거주유소        서울 은평구 수색로 188 (증산동)  1519    N   SK에너지   은평구\n",
              "2   (주)명연에너지 수색훼미리주유소        서울 은평구 수색로 236 (수색동)  1519    Y  현대오일뱅크   은평구\n",
              "3               다회주유소        서울 은평구 증산로 441 (신사동)  1524    Y   S-OIL   은평구\n",
              "4             신사제일주유소    서울특별시 은평구  증산로 423 (신사동)  1524    N   GS칼텍스   은평구\n",
              "..                ...                         ...   ...  ...     ...   ...\n",
              "13     SK네트윅스(주)길동주유소       서울 강동구 천호대로 1221 (길동)  1733    Y   SK에너지   강동구\n",
              "14            고속셀프주유소  서울특별시 강동구  천호대로 1246 (둔촌동)  1733    Y   SK에너지   강동구\n",
              "15     SK네트윅스(주)한미주유소         서울 강동구 성내로 32 (성내동)  1763    N   SK에너지   강동구\n",
              "16              명일주유소        서울 강동구 고덕로 168 (명일동)  1764    N   SK에너지   강동구\n",
              "17              강동주유소       서울 강동구 양재대로 1509 (길동)  1983    N   SK에너지   강동구\n",
              "\n",
              "[533 rows x 6 columns]"
            ]
          },
          "metadata": {
            "tags": []
          },
          "execution_count": 18
        }
      ]
    },
    {
      "cell_type": "code",
      "metadata": {
        "colab": {
          "base_uri": "https://localhost:8080/"
        },
        "id": "vg7VMSGy_Ia7",
        "outputId": "171a0c83-0bcc-4306-f379-cc08616af6f9"
      },
      "source": [
        "station_result.loc[:,'Price'] = station_result.loc[:,'Price'].astype(float)"
      ],
      "execution_count": 19,
      "outputs": [
        {
          "output_type": "stream",
          "text": [
            "/usr/local/lib/python3.6/dist-packages/pandas/core/indexing.py:1781: SettingWithCopyWarning: \n",
            "A value is trying to be set on a copy of a slice from a DataFrame.\n",
            "Try using .loc[row_indexer,col_indexer] = value instead\n",
            "\n",
            "See the caveats in the documentation: https://pandas.pydata.org/pandas-docs/stable/user_guide/indexing.html#returning-a-view-versus-a-copy\n",
            "  self.obj[item_labels[indexer[info_axis]]] = value\n"
          ],
          "name": "stderr"
        }
      ]
    },
    {
      "cell_type": "code",
      "metadata": {
        "colab": {
          "base_uri": "https://localhost:8080/"
        },
        "id": "8M_JQ_bG_Sup",
        "outputId": "a047b062-5123-4f33-8df0-5f1e92190cb3"
      },
      "source": [
        "station_result.info()"
      ],
      "execution_count": 20,
      "outputs": [
        {
          "output_type": "stream",
          "text": [
            "<class 'pandas.core.frame.DataFrame'>\n",
            "Int64Index: 533 entries, 0 to 17\n",
            "Data columns (total 6 columns):\n",
            " #   Column      Non-Null Count  Dtype  \n",
            "---  ------      --------------  -----  \n",
            " 0   GasStation  533 non-null    object \n",
            " 1   Address     533 non-null    object \n",
            " 2   Price       533 non-null    float64\n",
            " 3   Self        533 non-null    object \n",
            " 4   Logo        533 non-null    object \n",
            " 5   state       533 non-null    object \n",
            "dtypes: float64(1), object(5)\n",
            "memory usage: 29.1+ KB\n"
          ],
          "name": "stdout"
        }
      ]
    },
    {
      "cell_type": "code",
      "metadata": {
        "id": "Rr23EY0N_a0E"
      },
      "source": [
        "station_result.reset_index(inplace=True)\n",
        "del station_result['index']"
      ],
      "execution_count": 21,
      "outputs": []
    },
    {
      "cell_type": "code",
      "metadata": {
        "colab": {
          "base_uri": "https://localhost:8080/"
        },
        "id": "wbxGtU1J_5E9",
        "outputId": "d7df5015-4b53-495a-8579-e0eb5e49f3fb"
      },
      "source": [
        "station_result.info()"
      ],
      "execution_count": 22,
      "outputs": [
        {
          "output_type": "stream",
          "text": [
            "<class 'pandas.core.frame.DataFrame'>\n",
            "RangeIndex: 533 entries, 0 to 532\n",
            "Data columns (total 6 columns):\n",
            " #   Column      Non-Null Count  Dtype  \n",
            "---  ------      --------------  -----  \n",
            " 0   GasStation  533 non-null    object \n",
            " 1   Address     533 non-null    object \n",
            " 2   Price       533 non-null    float64\n",
            " 3   Self        533 non-null    object \n",
            " 4   Logo        533 non-null    object \n",
            " 5   state       533 non-null    object \n",
            "dtypes: float64(1), object(5)\n",
            "memory usage: 25.1+ KB\n"
          ],
          "name": "stdout"
        }
      ]
    },
    {
      "cell_type": "code",
      "metadata": {
        "colab": {
          "base_uri": "https://localhost:8080/",
          "height": 347
        },
        "id": "5AMj4Bk2_78S",
        "outputId": "4249dd10-26d2-4108-9045-3054ee225b7b"
      },
      "source": [
        "station_result.head(10)"
      ],
      "execution_count": 23,
      "outputs": [
        {
          "output_type": "execute_result",
          "data": {
            "text/html": [
              "<div>\n",
              "<style scoped>\n",
              "    .dataframe tbody tr th:only-of-type {\n",
              "        vertical-align: middle;\n",
              "    }\n",
              "\n",
              "    .dataframe tbody tr th {\n",
              "        vertical-align: top;\n",
              "    }\n",
              "\n",
              "    .dataframe thead th {\n",
              "        text-align: right;\n",
              "    }\n",
              "</style>\n",
              "<table border=\"1\" class=\"dataframe\">\n",
              "  <thead>\n",
              "    <tr style=\"text-align: right;\">\n",
              "      <th></th>\n",
              "      <th>GasStation</th>\n",
              "      <th>Address</th>\n",
              "      <th>Price</th>\n",
              "      <th>Self</th>\n",
              "      <th>Logo</th>\n",
              "      <th>state</th>\n",
              "    </tr>\n",
              "  </thead>\n",
              "  <tbody>\n",
              "    <tr>\n",
              "      <th>0</th>\n",
              "      <td>수색뉴타운</td>\n",
              "      <td>서울특별시 은평구  수색로 350 (수색동)</td>\n",
              "      <td>1505.0</td>\n",
              "      <td>Y</td>\n",
              "      <td>GS칼텍스</td>\n",
              "      <td>은평구</td>\n",
              "    </tr>\n",
              "    <tr>\n",
              "      <th>1</th>\n",
              "      <td>타이거주유소</td>\n",
              "      <td>서울 은평구 수색로 188 (증산동)</td>\n",
              "      <td>1519.0</td>\n",
              "      <td>N</td>\n",
              "      <td>SK에너지</td>\n",
              "      <td>은평구</td>\n",
              "    </tr>\n",
              "    <tr>\n",
              "      <th>2</th>\n",
              "      <td>(주)명연에너지 수색훼미리주유소</td>\n",
              "      <td>서울 은평구 수색로 236 (수색동)</td>\n",
              "      <td>1519.0</td>\n",
              "      <td>Y</td>\n",
              "      <td>현대오일뱅크</td>\n",
              "      <td>은평구</td>\n",
              "    </tr>\n",
              "    <tr>\n",
              "      <th>3</th>\n",
              "      <td>다회주유소</td>\n",
              "      <td>서울 은평구 증산로 441 (신사동)</td>\n",
              "      <td>1524.0</td>\n",
              "      <td>Y</td>\n",
              "      <td>S-OIL</td>\n",
              "      <td>은평구</td>\n",
              "    </tr>\n",
              "    <tr>\n",
              "      <th>4</th>\n",
              "      <td>신사제일주유소</td>\n",
              "      <td>서울특별시 은평구  증산로 423 (신사동)</td>\n",
              "      <td>1524.0</td>\n",
              "      <td>N</td>\n",
              "      <td>GS칼텍스</td>\n",
              "      <td>은평구</td>\n",
              "    </tr>\n",
              "    <tr>\n",
              "      <th>5</th>\n",
              "      <td>뉴타운셀프주유소</td>\n",
              "      <td>서울특별시 은평구  통일로 1031</td>\n",
              "      <td>1529.0</td>\n",
              "      <td>Y</td>\n",
              "      <td>S-OIL</td>\n",
              "      <td>은평구</td>\n",
              "    </tr>\n",
              "    <tr>\n",
              "      <th>6</th>\n",
              "      <td>서부주유소</td>\n",
              "      <td>서울특별시 은평구 응암로 210 (응암동)</td>\n",
              "      <td>1533.0</td>\n",
              "      <td>Y</td>\n",
              "      <td>GS칼텍스</td>\n",
              "      <td>은평구</td>\n",
              "    </tr>\n",
              "    <tr>\n",
              "      <th>7</th>\n",
              "      <td>(주)에스지주유소</td>\n",
              "      <td>서울 은평구 증산로 371 (신사동)</td>\n",
              "      <td>1534.0</td>\n",
              "      <td>N</td>\n",
              "      <td>현대오일뱅크</td>\n",
              "      <td>은평구</td>\n",
              "    </tr>\n",
              "    <tr>\n",
              "      <th>8</th>\n",
              "      <td>불광주유소</td>\n",
              "      <td>서울 은평구 연서로 314 (불광동)</td>\n",
              "      <td>1534.0</td>\n",
              "      <td>N</td>\n",
              "      <td>현대오일뱅크</td>\n",
              "      <td>은평구</td>\n",
              "    </tr>\n",
              "    <tr>\n",
              "      <th>9</th>\n",
              "      <td>무궁화주유소</td>\n",
              "      <td>서울 은평구 응암로 163 (응암동)</td>\n",
              "      <td>1534.0</td>\n",
              "      <td>N</td>\n",
              "      <td>SK에너지</td>\n",
              "      <td>은평구</td>\n",
              "    </tr>\n",
              "  </tbody>\n",
              "</table>\n",
              "</div>"
            ],
            "text/plain": [
              "          GasStation                   Address   Price Self    Logo state\n",
              "0              수색뉴타운  서울특별시 은평구  수색로 350 (수색동)  1505.0    Y   GS칼텍스   은평구\n",
              "1             타이거주유소      서울 은평구 수색로 188 (증산동)  1519.0    N   SK에너지   은평구\n",
              "2  (주)명연에너지 수색훼미리주유소      서울 은평구 수색로 236 (수색동)  1519.0    Y  현대오일뱅크   은평구\n",
              "3              다회주유소      서울 은평구 증산로 441 (신사동)  1524.0    Y   S-OIL   은평구\n",
              "4            신사제일주유소  서울특별시 은평구  증산로 423 (신사동)  1524.0    N   GS칼텍스   은평구\n",
              "5           뉴타운셀프주유소       서울특별시 은평구  통일로 1031  1529.0    Y   S-OIL   은평구\n",
              "6              서부주유소   서울특별시 은평구 응암로 210 (응암동)  1533.0    Y   GS칼텍스   은평구\n",
              "7          (주)에스지주유소      서울 은평구 증산로 371 (신사동)  1534.0    N  현대오일뱅크   은평구\n",
              "8              불광주유소      서울 은평구 연서로 314 (불광동)  1534.0    N  현대오일뱅크   은평구\n",
              "9             무궁화주유소      서울 은평구 응암로 163 (응암동)  1534.0    N   SK에너지   은평구"
            ]
          },
          "metadata": {
            "tags": []
          },
          "execution_count": 23
        }
      ]
    },
    {
      "cell_type": "code",
      "metadata": {
        "colab": {
          "base_uri": "https://localhost:8080/"
        },
        "id": "pQhUisqZ_9wf",
        "outputId": "57735862-5def-479e-edbf-f91397fdd466"
      },
      "source": [
        "# !apt-get install fonts-nanum* -qq\n",
        "import matplotlib.font_manager as fm\n",
        "path = '/usr/share/fonts/truetype/nanum/NanumGothicEco.ttf'  # 설치된 나눔글꼴중 원하는 녀석의 전체 경로를 가져오자\n",
        "font_name = fm.FontProperties(fname=path, size=10).get_name()\n",
        "print(font_name)\n",
        "plt.rc('font', family=font_name)\n",
        "fm._rebuild()"
      ],
      "execution_count": 24,
      "outputs": [
        {
          "output_type": "stream",
          "text": [
            "NanumGothic Eco\n"
          ],
          "name": "stdout"
        }
      ]
    },
    {
      "cell_type": "code",
      "metadata": {
        "colab": {
          "base_uri": "https://localhost:8080/",
          "height": 434
        },
        "id": "-_OUU7yBAPaS",
        "outputId": "98821f6a-6a3a-4cc5-d010-2f235f50db19"
      },
      "source": [
        "station_result.boxplot(column='Price',by='Self',figsize=(12,6))"
      ],
      "execution_count": 25,
      "outputs": [
        {
          "output_type": "execute_result",
          "data": {
            "text/plain": [
              "<matplotlib.axes._subplots.AxesSubplot at 0x7fa32d75fe48>"
            ]
          },
          "metadata": {
            "tags": []
          },
          "execution_count": 25
        },
        {
          "output_type": "display_data",
          "data": {
            "image/png": "[encoded data removed]",
            "text/plain": [
              "<Figure size 864x432 with 1 Axes>"
            ]
          },
          "metadata": {
            "tags": [],
            "needs_background": "light"
          }
        }
      ]
    },
    {
      "cell_type": "code",
      "metadata": {
        "colab": {
          "base_uri": "https://localhost:8080/",
          "height": 403
        },
        "id": "euZNudXQA2ix",
        "outputId": "6f47295c-599b-4552-b03c-9d89c485c63b"
      },
      "source": [
        "plt.figure(figsize=(12,6))\n",
        "sns.boxplot(x='Logo',y='Price',hue='Self',data=station_result,palette='Set3')"
      ],
      "execution_count": 26,
      "outputs": [
        {
          "output_type": "execute_result",
          "data": {
            "text/plain": [
              "<matplotlib.axes._subplots.AxesSubplot at 0x7fa32d7999b0>"
            ]
          },
          "metadata": {
            "tags": []
          },
          "execution_count": 26
        },
        {
          "output_type": "display_data",
          "data": {
            "image/png": "[encoded data removed]",
            "text/plain": [
              "<Figure size 864x432 with 1 Axes>"
            ]
          },
          "metadata": {
            "tags": [],
            "needs_background": "light"
          }
        }
      ]
    },
    {
      "cell_type": "code",
      "metadata": {
        "colab": {
          "base_uri": "https://localhost:8080/",
          "height": 598
        },
        "id": "tszWa1wbBGyu",
        "outputId": "385b8798-bd6f-4b05-bc03-1dc84aef53c7"
      },
      "source": [
        "plt.figure(figsize=(12,8))\n",
        "sns.boxplot(x=\"Logo\", y=\"Price\", data=station_result, palette=\"Set3\")\n",
        "sns.swarmplot(x=\"Logo\", y=\"Price\", data=station_result, color=\".6\")\n"
      ],
      "execution_count": 27,
      "outputs": [
        {
          "output_type": "stream",
          "text": [
            "/usr/local/lib/python3.6/dist-packages/seaborn/categorical.py:1296: UserWarning: 5.5% of the points cannot be placed; you may want to decrease the size of the markers or use stripplot.\n",
            "  warnings.warn(msg, UserWarning)\n",
            "/usr/local/lib/python3.6/dist-packages/seaborn/categorical.py:1296: UserWarning: 5.6% of the points cannot be placed; you may want to decrease the size of the markers or use stripplot.\n",
            "  warnings.warn(msg, UserWarning)\n"
          ],
          "name": "stderr"
        },
        {
          "output_type": "execute_result",
          "data": {
            "text/plain": [
              "<matplotlib.axes._subplots.AxesSubplot at 0x7fa32d74b630>"
            ]
          },
          "metadata": {
            "tags": []
          },
          "execution_count": 27
        },
        {
          "output_type": "display_data",
          "data": {
            "image/png": "[encoded data removed]",
            "text/plain": [
              "<Figure size 864x576 with 1 Axes>"
            ]
          },
          "metadata": {
            "tags": [],
            "needs_background": "light"
          }
        }
      ]
    },
    {
      "cell_type": "code",
      "metadata": {
        "id": "5wNpyVX1B3mF"
      },
      "source": [
        "# !pip install googlemaps"
      ],
      "execution_count": 28,
      "outputs": []
    },
    {
      "cell_type": "code",
      "metadata": {
        "id": "WXWVlbCKB8ET"
      },
      "source": [
        "import json\n",
        "import folium\n",
        "import googlemaps\n",
        "import warnings\n",
        "warnings.simplefilter(action = \"ignore\", category = FutureWarning)"
      ],
      "execution_count": 29,
      "outputs": []
    },
    {
      "cell_type": "code",
      "metadata": {
        "colab": {
          "base_uri": "https://localhost:8080/",
          "height": 347
        },
        "id": "yOpqFgWzB_PE",
        "outputId": "91aadba7-68f0-4a36-915d-7934789c936d"
      },
      "source": [
        "station_result.sort_values(by='Price', ascending=False).head(10)\n"
      ],
      "execution_count": 30,
      "outputs": [
        {
          "output_type": "execute_result",
          "data": {
            "text/html": [
              "<div>\n",
              "<style scoped>\n",
              "    .dataframe tbody tr th:only-of-type {\n",
              "        vertical-align: middle;\n",
              "    }\n",
              "\n",
              "    .dataframe tbody tr th {\n",
              "        vertical-align: top;\n",
              "    }\n",
              "\n",
              "    .dataframe thead th {\n",
              "        text-align: right;\n",
              "    }\n",
              "</style>\n",
              "<table border=\"1\" class=\"dataframe\">\n",
              "  <thead>\n",
              "    <tr style=\"text-align: right;\">\n",
              "      <th></th>\n",
              "      <th>GasStation</th>\n",
              "      <th>Address</th>\n",
              "      <th>Price</th>\n",
              "      <th>Self</th>\n",
              "      <th>Logo</th>\n",
              "      <th>state</th>\n",
              "    </tr>\n",
              "  </thead>\n",
              "  <tbody>\n",
              "    <tr>\n",
              "      <th>261</th>\n",
              "      <td>서남주유소</td>\n",
              "      <td>서울 중구 통일로 30 (봉래동1가)</td>\n",
              "      <td>2132.0</td>\n",
              "      <td>N</td>\n",
              "      <td>SK에너지</td>\n",
              "      <td>중구</td>\n",
              "    </tr>\n",
              "    <tr>\n",
              "      <th>260</th>\n",
              "      <td>장충주유소</td>\n",
              "      <td>서울 중구 장충단로 202 (장충동1가)</td>\n",
              "      <td>2130.0</td>\n",
              "      <td>N</td>\n",
              "      <td>SK에너지</td>\n",
              "      <td>중구</td>\n",
              "    </tr>\n",
              "    <tr>\n",
              "      <th>60</th>\n",
              "      <td>양재주유소</td>\n",
              "      <td>서울 서초구 바우뫼로 178 (양재동)</td>\n",
              "      <td>2128.0</td>\n",
              "      <td>N</td>\n",
              "      <td>SK에너지</td>\n",
              "      <td>서초구</td>\n",
              "    </tr>\n",
              "    <tr>\n",
              "      <th>307</th>\n",
              "      <td>뉴서울(강남)</td>\n",
              "      <td>서울 강남구 언주로 716 (논현동)</td>\n",
              "      <td>2120.0</td>\n",
              "      <td>N</td>\n",
              "      <td>SK에너지</td>\n",
              "      <td>강남구</td>\n",
              "    </tr>\n",
              "    <tr>\n",
              "      <th>306</th>\n",
              "      <td>오천주유소</td>\n",
              "      <td>서울 강남구 봉은사로 503 (삼성동)</td>\n",
              "      <td>2107.0</td>\n",
              "      <td>N</td>\n",
              "      <td>SK에너지</td>\n",
              "      <td>강남구</td>\n",
              "    </tr>\n",
              "    <tr>\n",
              "      <th>434</th>\n",
              "      <td>갈월동주유소</td>\n",
              "      <td>서울특별시 용산구  한강대로 322 (갈월동)</td>\n",
              "      <td>2106.0</td>\n",
              "      <td>N</td>\n",
              "      <td>SK에너지</td>\n",
              "      <td>용산구</td>\n",
              "    </tr>\n",
              "    <tr>\n",
              "      <th>217</th>\n",
              "      <td>재동주유소</td>\n",
              "      <td>서울특별시 종로구  율곡로 58 (경운동)</td>\n",
              "      <td>2106.0</td>\n",
              "      <td>N</td>\n",
              "      <td>SK에너지</td>\n",
              "      <td>종로구</td>\n",
              "    </tr>\n",
              "    <tr>\n",
              "      <th>259</th>\n",
              "      <td>통일주유소</td>\n",
              "      <td>서울 중구 동호로 296 (장충동2가)</td>\n",
              "      <td>2106.0</td>\n",
              "      <td>N</td>\n",
              "      <td>SK에너지</td>\n",
              "      <td>중구</td>\n",
              "    </tr>\n",
              "    <tr>\n",
              "      <th>305</th>\n",
              "      <td>삼성주유소</td>\n",
              "      <td>서울 강남구 삼성로 521 (삼성동)</td>\n",
              "      <td>2106.0</td>\n",
              "      <td>N</td>\n",
              "      <td>SK에너지</td>\n",
              "      <td>강남구</td>\n",
              "    </tr>\n",
              "    <tr>\n",
              "      <th>435</th>\n",
              "      <td>청파주유소</td>\n",
              "      <td>서울특별시 용산구  청파로 311 (청파동1가)</td>\n",
              "      <td>2106.0</td>\n",
              "      <td>N</td>\n",
              "      <td>SK에너지</td>\n",
              "      <td>용산구</td>\n",
              "    </tr>\n",
              "  </tbody>\n",
              "</table>\n",
              "</div>"
            ],
            "text/plain": [
              "    GasStation                     Address   Price Self   Logo state\n",
              "261      서남주유소        서울 중구 통일로 30 (봉래동1가)  2132.0    N  SK에너지    중구\n",
              "260      장충주유소      서울 중구 장충단로 202 (장충동1가)  2130.0    N  SK에너지    중구\n",
              "60       양재주유소       서울 서초구 바우뫼로 178 (양재동)  2128.0    N  SK에너지   서초구\n",
              "307    뉴서울(강남)        서울 강남구 언주로 716 (논현동)  2120.0    N  SK에너지   강남구\n",
              "306      오천주유소       서울 강남구 봉은사로 503 (삼성동)  2107.0    N  SK에너지   강남구\n",
              "434     갈월동주유소   서울특별시 용산구  한강대로 322 (갈월동)  2106.0    N  SK에너지   용산구\n",
              "217      재동주유소     서울특별시 종로구  율곡로 58 (경운동)  2106.0    N  SK에너지   종로구\n",
              "259      통일주유소       서울 중구 동호로 296 (장충동2가)  2106.0    N  SK에너지    중구\n",
              "305      삼성주유소        서울 강남구 삼성로 521 (삼성동)  2106.0    N  SK에너지   강남구\n",
              "435      청파주유소  서울특별시 용산구  청파로 311 (청파동1가)  2106.0    N  SK에너지   용산구"
            ]
          },
          "metadata": {
            "tags": []
          },
          "execution_count": 30
        }
      ]
    },
    {
      "cell_type": "code",
      "metadata": {
        "colab": {
          "base_uri": "https://localhost:8080/",
          "height": 227
        },
        "id": "AY5bHqVVCEs0",
        "outputId": "31653a55-cd43-42cd-d2fc-aec05c6f4c9e"
      },
      "source": [
        "import numpy as np\n",
        "state_data = pd.pivot_table(station_result, index=[\"state\"], values=[\"Price\"],\n",
        " aggfunc=np.mean)\n",
        "state_data.head()"
      ],
      "execution_count": 31,
      "outputs": [
        {
          "output_type": "execute_result",
          "data": {
            "text/html": [
              "<div>\n",
              "<style scoped>\n",
              "    .dataframe tbody tr th:only-of-type {\n",
              "        vertical-align: middle;\n",
              "    }\n",
              "\n",
              "    .dataframe tbody tr th {\n",
              "        vertical-align: top;\n",
              "    }\n",
              "\n",
              "    .dataframe thead th {\n",
              "        text-align: right;\n",
              "    }\n",
              "</style>\n",
              "<table border=\"1\" class=\"dataframe\">\n",
              "  <thead>\n",
              "    <tr style=\"text-align: right;\">\n",
              "      <th></th>\n",
              "      <th>Price</th>\n",
              "    </tr>\n",
              "    <tr>\n",
              "      <th>state</th>\n",
              "      <th></th>\n",
              "    </tr>\n",
              "  </thead>\n",
              "  <tbody>\n",
              "    <tr>\n",
              "      <th>강남구</th>\n",
              "      <td>1791.000000</td>\n",
              "    </tr>\n",
              "    <tr>\n",
              "      <th>강동구</th>\n",
              "      <td>1656.722222</td>\n",
              "    </tr>\n",
              "    <tr>\n",
              "      <th>강북구</th>\n",
              "      <td>1534.333333</td>\n",
              "    </tr>\n",
              "    <tr>\n",
              "      <th>강서구</th>\n",
              "      <td>1576.428571</td>\n",
              "    </tr>\n",
              "    <tr>\n",
              "      <th>관악구</th>\n",
              "      <td>1603.055556</td>\n",
              "    </tr>\n",
              "  </tbody>\n",
              "</table>\n",
              "</div>"
            ],
            "text/plain": [
              "             Price\n",
              "state             \n",
              "강남구    1791.000000\n",
              "강동구    1656.722222\n",
              "강북구    1534.333333\n",
              "강서구    1576.428571\n",
              "관악구    1603.055556"
            ]
          },
          "metadata": {
            "tags": []
          },
          "execution_count": 31
        }
      ]
    },
    {
      "cell_type": "code",
      "metadata": {
        "id": "1XfyZqkQCOfS"
      },
      "source": [
        "\n"
      ],
      "execution_count": 31,
      "outputs": []
    },
    {
      "cell_type": "code",
      "metadata": {
        "id": "0OuDq-aACWTf"
      },
      "source": [
        "# ****************\n",
        "\n",
        "gkey = \"************************\"\n",
        "gmaps = googlemaps.Client(key=gkey)"
      ],
      "execution_count": 32,
      "outputs": []
    },
    {
      "cell_type": "code",
      "metadata": {
        "id": "o1QmElKoGWtZ"
      },
      "source": [
        "lat =[]\n",
        "lng = []\n",
        "for n in station_result.index:\n",
        "\n",
        "  tmp = str(station_result['Address'][n]).split('(')[0]\n",
        "  tmp_map = gmaps.geocode(tmp)\n",
        "  tmp_loc = tmp_map[0].get('geometry')\n",
        "  lat.append(tmp_loc['location']['lat'])\n",
        "  lng.append(tmp_loc['location']['lng'])\n"
      ],
      "execution_count": 33,
      "outputs": []
    },
    {
      "cell_type": "code",
      "metadata": {
        "colab": {
          "base_uri": "https://localhost:8080/",
          "height": 606
        },
        "id": "HcQXw9pOG9cu",
        "outputId": "9c7607b2-311e-47d1-bf94-c8d3b9b3c18c"
      },
      "source": [
        "station_result['lat'] = lat\n",
        "station_result['lng'] = lng\n",
        "station_result"
      ],
      "execution_count": 34,
      "outputs": [
        {
          "output_type": "stream",
          "text": [
            "/usr/local/lib/python3.6/dist-packages/ipykernel_launcher.py:1: SettingWithCopyWarning: \n",
            "A value is trying to be set on a copy of a slice from a DataFrame.\n",
            "Try using .loc[row_indexer,col_indexer] = value instead\n",
            "\n",
            "See the caveats in the documentation: https://pandas.pydata.org/pandas-docs/stable/user_guide/indexing.html#returning-a-view-versus-a-copy\n",
            "  \"\"\"Entry point for launching an IPython kernel.\n",
            "/usr/local/lib/python3.6/dist-packages/ipykernel_launcher.py:2: SettingWithCopyWarning: \n",
            "A value is trying to be set on a copy of a slice from a DataFrame.\n",
            "Try using .loc[row_indexer,col_indexer] = value instead\n",
            "\n",
            "See the caveats in the documentation: https://pandas.pydata.org/pandas-docs/stable/user_guide/indexing.html#returning-a-view-versus-a-copy\n",
            "  \n"
          ],
          "name": "stderr"
        },
        {
          "output_type": "execute_result",
          "data": {
            "text/html": [
              "<div>\n",
              "<style scoped>\n",
              "    .dataframe tbody tr th:only-of-type {\n",
              "        vertical-align: middle;\n",
              "    }\n",
              "\n",
              "    .dataframe tbody tr th {\n",
              "        vertical-align: top;\n",
              "    }\n",
              "\n",
              "    .dataframe thead th {\n",
              "        text-align: right;\n",
              "    }\n",
              "</style>\n",
              "<table border=\"1\" class=\"dataframe\">\n",
              "  <thead>\n",
              "    <tr style=\"text-align: right;\">\n",
              "      <th></th>\n",
              "      <th>GasStation</th>\n",
              "      <th>Address</th>\n",
              "      <th>Price</th>\n",
              "      <th>Self</th>\n",
              "      <th>Logo</th>\n",
              "      <th>state</th>\n",
              "      <th>lat</th>\n",
              "      <th>lng</th>\n",
              "    </tr>\n",
              "  </thead>\n",
              "  <tbody>\n",
              "    <tr>\n",
              "      <th>0</th>\n",
              "      <td>수색뉴타운</td>\n",
              "      <td>서울특별시 은평구  수색로 350 (수색동)</td>\n",
              "      <td>1505.0</td>\n",
              "      <td>Y</td>\n",
              "      <td>GS칼텍스</td>\n",
              "      <td>은평구</td>\n",
              "      <td>37.587107</td>\n",
              "      <td>126.887542</td>\n",
              "    </tr>\n",
              "    <tr>\n",
              "      <th>1</th>\n",
              "      <td>타이거주유소</td>\n",
              "      <td>서울 은평구 수색로 188 (증산동)</td>\n",
              "      <td>1519.0</td>\n",
              "      <td>N</td>\n",
              "      <td>SK에너지</td>\n",
              "      <td>은평구</td>\n",
              "      <td>37.578424</td>\n",
              "      <td>126.902050</td>\n",
              "    </tr>\n",
              "    <tr>\n",
              "      <th>2</th>\n",
              "      <td>(주)명연에너지 수색훼미리주유소</td>\n",
              "      <td>서울 은평구 수색로 236 (수색동)</td>\n",
              "      <td>1519.0</td>\n",
              "      <td>Y</td>\n",
              "      <td>현대오일뱅크</td>\n",
              "      <td>은평구</td>\n",
              "      <td>37.581122</td>\n",
              "      <td>126.897774</td>\n",
              "    </tr>\n",
              "    <tr>\n",
              "      <th>3</th>\n",
              "      <td>다회주유소</td>\n",
              "      <td>서울 은평구 증산로 441 (신사동)</td>\n",
              "      <td>1524.0</td>\n",
              "      <td>Y</td>\n",
              "      <td>S-OIL</td>\n",
              "      <td>은평구</td>\n",
              "      <td>37.595592</td>\n",
              "      <td>126.914451</td>\n",
              "    </tr>\n",
              "    <tr>\n",
              "      <th>4</th>\n",
              "      <td>신사제일주유소</td>\n",
              "      <td>서울특별시 은평구  증산로 423 (신사동)</td>\n",
              "      <td>1524.0</td>\n",
              "      <td>N</td>\n",
              "      <td>GS칼텍스</td>\n",
              "      <td>은평구</td>\n",
              "      <td>37.594051</td>\n",
              "      <td>126.913921</td>\n",
              "    </tr>\n",
              "    <tr>\n",
              "      <th>...</th>\n",
              "      <td>...</td>\n",
              "      <td>...</td>\n",
              "      <td>...</td>\n",
              "      <td>...</td>\n",
              "      <td>...</td>\n",
              "      <td>...</td>\n",
              "      <td>...</td>\n",
              "      <td>...</td>\n",
              "    </tr>\n",
              "    <tr>\n",
              "      <th>528</th>\n",
              "      <td>SK네트윅스(주)길동주유소</td>\n",
              "      <td>서울 강동구 천호대로 1221 (길동)</td>\n",
              "      <td>1733.0</td>\n",
              "      <td>Y</td>\n",
              "      <td>SK에너지</td>\n",
              "      <td>강동구</td>\n",
              "      <td>37.536095</td>\n",
              "      <td>127.146326</td>\n",
              "    </tr>\n",
              "    <tr>\n",
              "      <th>529</th>\n",
              "      <td>고속셀프주유소</td>\n",
              "      <td>서울특별시 강동구  천호대로 1246 (둔촌동)</td>\n",
              "      <td>1733.0</td>\n",
              "      <td>Y</td>\n",
              "      <td>SK에너지</td>\n",
              "      <td>강동구</td>\n",
              "      <td>37.536464</td>\n",
              "      <td>127.149316</td>\n",
              "    </tr>\n",
              "    <tr>\n",
              "      <th>530</th>\n",
              "      <td>SK네트윅스(주)한미주유소</td>\n",
              "      <td>서울 강동구 성내로 32 (성내동)</td>\n",
              "      <td>1763.0</td>\n",
              "      <td>N</td>\n",
              "      <td>SK에너지</td>\n",
              "      <td>강동구</td>\n",
              "      <td>37.529139</td>\n",
              "      <td>127.123792</td>\n",
              "    </tr>\n",
              "    <tr>\n",
              "      <th>531</th>\n",
              "      <td>명일주유소</td>\n",
              "      <td>서울 강동구 고덕로 168 (명일동)</td>\n",
              "      <td>1764.0</td>\n",
              "      <td>N</td>\n",
              "      <td>SK에너지</td>\n",
              "      <td>강동구</td>\n",
              "      <td>37.554452</td>\n",
              "      <td>127.143956</td>\n",
              "    </tr>\n",
              "    <tr>\n",
              "      <th>532</th>\n",
              "      <td>강동주유소</td>\n",
              "      <td>서울 강동구 양재대로 1509 (길동)</td>\n",
              "      <td>1983.0</td>\n",
              "      <td>N</td>\n",
              "      <td>SK에너지</td>\n",
              "      <td>강동구</td>\n",
              "      <td>37.540610</td>\n",
              "      <td>127.140602</td>\n",
              "    </tr>\n",
              "  </tbody>\n",
              "</table>\n",
              "<p>533 rows × 8 columns</p>\n",
              "</div>"
            ],
            "text/plain": [
              "            GasStation                     Address  ...        lat         lng\n",
              "0                수색뉴타운    서울특별시 은평구  수색로 350 (수색동)  ...  37.587107  126.887542\n",
              "1               타이거주유소        서울 은평구 수색로 188 (증산동)  ...  37.578424  126.902050\n",
              "2    (주)명연에너지 수색훼미리주유소        서울 은평구 수색로 236 (수색동)  ...  37.581122  126.897774\n",
              "3                다회주유소        서울 은평구 증산로 441 (신사동)  ...  37.595592  126.914451\n",
              "4              신사제일주유소    서울특별시 은평구  증산로 423 (신사동)  ...  37.594051  126.913921\n",
              "..                 ...                         ...  ...        ...         ...\n",
              "528     SK네트윅스(주)길동주유소       서울 강동구 천호대로 1221 (길동)  ...  37.536095  127.146326\n",
              "529            고속셀프주유소  서울특별시 강동구  천호대로 1246 (둔촌동)  ...  37.536464  127.149316\n",
              "530     SK네트윅스(주)한미주유소         서울 강동구 성내로 32 (성내동)  ...  37.529139  127.123792\n",
              "531              명일주유소        서울 강동구 고덕로 168 (명일동)  ...  37.554452  127.143956\n",
              "532              강동주유소       서울 강동구 양재대로 1509 (길동)  ...  37.540610  127.140602\n",
              "\n",
              "[533 rows x 8 columns]"
            ]
          },
          "metadata": {
            "tags": []
          },
          "execution_count": 34
        }
      ]
    },
    {
      "cell_type": "code",
      "metadata": {
        "colab": {
          "base_uri": "https://localhost:8080/",
          "height": 347
        },
        "id": "6DZywRuMIbJT",
        "outputId": "ea0d258b-af81-47da-c67d-43ef63ba827d"
      },
      "source": [
        "oil_price_top10 = station_result.sort_values(by='Price', ascending=False).head(10)\n",
        "oil_price_top10"
      ],
      "execution_count": 35,
      "outputs": [
        {
          "output_type": "execute_result",
          "data": {
            "text/html": [
              "<div>\n",
              "<style scoped>\n",
              "    .dataframe tbody tr th:only-of-type {\n",
              "        vertical-align: middle;\n",
              "    }\n",
              "\n",
              "    .dataframe tbody tr th {\n",
              "        vertical-align: top;\n",
              "    }\n",
              "\n",
              "    .dataframe thead th {\n",
              "        text-align: right;\n",
              "    }\n",
              "</style>\n",
              "<table border=\"1\" class=\"dataframe\">\n",
              "  <thead>\n",
              "    <tr style=\"text-align: right;\">\n",
              "      <th></th>\n",
              "      <th>GasStation</th>\n",
              "      <th>Address</th>\n",
              "      <th>Price</th>\n",
              "      <th>Self</th>\n",
              "      <th>Logo</th>\n",
              "      <th>state</th>\n",
              "      <th>lat</th>\n",
              "      <th>lng</th>\n",
              "    </tr>\n",
              "  </thead>\n",
              "  <tbody>\n",
              "    <tr>\n",
              "      <th>261</th>\n",
              "      <td>서남주유소</td>\n",
              "      <td>서울 중구 통일로 30 (봉래동1가)</td>\n",
              "      <td>2132.0</td>\n",
              "      <td>N</td>\n",
              "      <td>SK에너지</td>\n",
              "      <td>중구</td>\n",
              "      <td>37.558348</td>\n",
              "      <td>126.972090</td>\n",
              "    </tr>\n",
              "    <tr>\n",
              "      <th>260</th>\n",
              "      <td>장충주유소</td>\n",
              "      <td>서울 중구 장충단로 202 (장충동1가)</td>\n",
              "      <td>2130.0</td>\n",
              "      <td>N</td>\n",
              "      <td>SK에너지</td>\n",
              "      <td>중구</td>\n",
              "      <td>37.562719</td>\n",
              "      <td>127.007010</td>\n",
              "    </tr>\n",
              "    <tr>\n",
              "      <th>60</th>\n",
              "      <td>양재주유소</td>\n",
              "      <td>서울 서초구 바우뫼로 178 (양재동)</td>\n",
              "      <td>2128.0</td>\n",
              "      <td>N</td>\n",
              "      <td>SK에너지</td>\n",
              "      <td>서초구</td>\n",
              "      <td>37.478071</td>\n",
              "      <td>127.039610</td>\n",
              "    </tr>\n",
              "    <tr>\n",
              "      <th>307</th>\n",
              "      <td>뉴서울(강남)</td>\n",
              "      <td>서울 강남구 언주로 716 (논현동)</td>\n",
              "      <td>2120.0</td>\n",
              "      <td>N</td>\n",
              "      <td>SK에너지</td>\n",
              "      <td>강남구</td>\n",
              "      <td>37.517636</td>\n",
              "      <td>127.035756</td>\n",
              "    </tr>\n",
              "    <tr>\n",
              "      <th>306</th>\n",
              "      <td>오천주유소</td>\n",
              "      <td>서울 강남구 봉은사로 503 (삼성동)</td>\n",
              "      <td>2107.0</td>\n",
              "      <td>N</td>\n",
              "      <td>SK에너지</td>\n",
              "      <td>강남구</td>\n",
              "      <td>37.513458</td>\n",
              "      <td>127.053786</td>\n",
              "    </tr>\n",
              "    <tr>\n",
              "      <th>434</th>\n",
              "      <td>갈월동주유소</td>\n",
              "      <td>서울특별시 용산구  한강대로 322 (갈월동)</td>\n",
              "      <td>2106.0</td>\n",
              "      <td>N</td>\n",
              "      <td>SK에너지</td>\n",
              "      <td>용산구</td>\n",
              "      <td>37.546955</td>\n",
              "      <td>126.972218</td>\n",
              "    </tr>\n",
              "    <tr>\n",
              "      <th>217</th>\n",
              "      <td>재동주유소</td>\n",
              "      <td>서울특별시 종로구  율곡로 58 (경운동)</td>\n",
              "      <td>2106.0</td>\n",
              "      <td>N</td>\n",
              "      <td>SK에너지</td>\n",
              "      <td>종로구</td>\n",
              "      <td>37.576388</td>\n",
              "      <td>126.985851</td>\n",
              "    </tr>\n",
              "    <tr>\n",
              "      <th>259</th>\n",
              "      <td>통일주유소</td>\n",
              "      <td>서울 중구 동호로 296 (장충동2가)</td>\n",
              "      <td>2106.0</td>\n",
              "      <td>N</td>\n",
              "      <td>SK에너지</td>\n",
              "      <td>중구</td>\n",
              "      <td>37.560714</td>\n",
              "      <td>127.003177</td>\n",
              "    </tr>\n",
              "    <tr>\n",
              "      <th>305</th>\n",
              "      <td>삼성주유소</td>\n",
              "      <td>서울 강남구 삼성로 521 (삼성동)</td>\n",
              "      <td>2106.0</td>\n",
              "      <td>N</td>\n",
              "      <td>SK에너지</td>\n",
              "      <td>강남구</td>\n",
              "      <td>37.508507</td>\n",
              "      <td>127.055165</td>\n",
              "    </tr>\n",
              "    <tr>\n",
              "      <th>435</th>\n",
              "      <td>청파주유소</td>\n",
              "      <td>서울특별시 용산구  청파로 311 (청파동1가)</td>\n",
              "      <td>2106.0</td>\n",
              "      <td>N</td>\n",
              "      <td>SK에너지</td>\n",
              "      <td>용산구</td>\n",
              "      <td>37.547451</td>\n",
              "      <td>126.969904</td>\n",
              "    </tr>\n",
              "  </tbody>\n",
              "</table>\n",
              "</div>"
            ],
            "text/plain": [
              "    GasStation                     Address   Price  ... state        lat         lng\n",
              "261      서남주유소        서울 중구 통일로 30 (봉래동1가)  2132.0  ...    중구  37.558348  126.972090\n",
              "260      장충주유소      서울 중구 장충단로 202 (장충동1가)  2130.0  ...    중구  37.562719  127.007010\n",
              "60       양재주유소       서울 서초구 바우뫼로 178 (양재동)  2128.0  ...   서초구  37.478071  127.039610\n",
              "307    뉴서울(강남)        서울 강남구 언주로 716 (논현동)  2120.0  ...   강남구  37.517636  127.035756\n",
              "306      오천주유소       서울 강남구 봉은사로 503 (삼성동)  2107.0  ...   강남구  37.513458  127.053786\n",
              "434     갈월동주유소   서울특별시 용산구  한강대로 322 (갈월동)  2106.0  ...   용산구  37.546955  126.972218\n",
              "217      재동주유소     서울특별시 종로구  율곡로 58 (경운동)  2106.0  ...   종로구  37.576388  126.985851\n",
              "259      통일주유소       서울 중구 동호로 296 (장충동2가)  2106.0  ...    중구  37.560714  127.003177\n",
              "305      삼성주유소        서울 강남구 삼성로 521 (삼성동)  2106.0  ...   강남구  37.508507  127.055165\n",
              "435      청파주유소  서울특별시 용산구  청파로 311 (청파동1가)  2106.0  ...   용산구  37.547451  126.969904\n",
              "\n",
              "[10 rows x 8 columns]"
            ]
          },
          "metadata": {
            "tags": []
          },
          "execution_count": 35
        }
      ]
    },
    {
      "cell_type": "code",
      "metadata": {
        "colab": {
          "base_uri": "https://localhost:8080/",
          "height": 347
        },
        "id": "AwPiLEzaIncK",
        "outputId": "45f2add4-b993-4e54-f802-ea2b8facb762"
      },
      "source": [
        "oil_price_bot10 = station_result.sort_values(by='Price', ascending=True).head(10)\n",
        "oil_price_bot10"
      ],
      "execution_count": 36,
      "outputs": [
        {
          "output_type": "execute_result",
          "data": {
            "text/html": [
              "<div>\n",
              "<style scoped>\n",
              "    .dataframe tbody tr th:only-of-type {\n",
              "        vertical-align: middle;\n",
              "    }\n",
              "\n",
              "    .dataframe tbody tr th {\n",
              "        vertical-align: top;\n",
              "    }\n",
              "\n",
              "    .dataframe thead th {\n",
              "        text-align: right;\n",
              "    }\n",
              "</style>\n",
              "<table border=\"1\" class=\"dataframe\">\n",
              "  <thead>\n",
              "    <tr style=\"text-align: right;\">\n",
              "      <th></th>\n",
              "      <th>GasStation</th>\n",
              "      <th>Address</th>\n",
              "      <th>Price</th>\n",
              "      <th>Self</th>\n",
              "      <th>Logo</th>\n",
              "      <th>state</th>\n",
              "      <th>lat</th>\n",
              "      <th>lng</th>\n",
              "    </tr>\n",
              "  </thead>\n",
              "  <tbody>\n",
              "    <tr>\n",
              "      <th>19</th>\n",
              "      <td>만남의광장주유소</td>\n",
              "      <td>서울 서초구 양재대로12길 73-71 (원지동)</td>\n",
              "      <td>1490.0</td>\n",
              "      <td>N</td>\n",
              "      <td>알뜰(ex)</td>\n",
              "      <td>서초구</td>\n",
              "      <td>37.459906</td>\n",
              "      <td>127.042060</td>\n",
              "    </tr>\n",
              "    <tr>\n",
              "      <th>334</th>\n",
              "      <td>강서오곡셀프주유소</td>\n",
              "      <td>서울특별시 강서구 벌말로 254 (오곡동)</td>\n",
              "      <td>1497.0</td>\n",
              "      <td>Y</td>\n",
              "      <td>SK에너지</td>\n",
              "      <td>강서구</td>\n",
              "      <td>37.555284</td>\n",
              "      <td>126.768567</td>\n",
              "    </tr>\n",
              "    <tr>\n",
              "      <th>61</th>\n",
              "      <td>태릉솔밭주유소</td>\n",
              "      <td>서울특별시 노원구 노원로 49 (공릉동)</td>\n",
              "      <td>1497.0</td>\n",
              "      <td>Y</td>\n",
              "      <td>S-OIL</td>\n",
              "      <td>노원구</td>\n",
              "      <td>37.625918</td>\n",
              "      <td>127.085533</td>\n",
              "    </tr>\n",
              "    <tr>\n",
              "      <th>453</th>\n",
              "      <td>수유동주유소</td>\n",
              "      <td>서울특별시 강북구  도봉로 395 (수유동)</td>\n",
              "      <td>1498.0</td>\n",
              "      <td>Y</td>\n",
              "      <td>GS칼텍스</td>\n",
              "      <td>강북구</td>\n",
              "      <td>37.642140</td>\n",
              "      <td>127.029568</td>\n",
              "    </tr>\n",
              "    <tr>\n",
              "      <th>402</th>\n",
              "      <td>신일셀프주유소</td>\n",
              "      <td>서울 중랑구 상봉로 58 (망우동)</td>\n",
              "      <td>1499.0</td>\n",
              "      <td>Y</td>\n",
              "      <td>SK에너지</td>\n",
              "      <td>중랑구</td>\n",
              "      <td>37.590907</td>\n",
              "      <td>127.093834</td>\n",
              "    </tr>\n",
              "    <tr>\n",
              "      <th>178</th>\n",
              "      <td>(주)강서오일</td>\n",
              "      <td>서울 영등포구 도신로 151 (도림동)</td>\n",
              "      <td>1499.0</td>\n",
              "      <td>N</td>\n",
              "      <td>현대오일뱅크</td>\n",
              "      <td>영등포구</td>\n",
              "      <td>37.509969</td>\n",
              "      <td>126.908231</td>\n",
              "    </tr>\n",
              "    <tr>\n",
              "      <th>177</th>\n",
              "      <td>(주)대청에너지 대청주유소</td>\n",
              "      <td>서울 영등포구 가마산로 328 (대림동)</td>\n",
              "      <td>1499.0</td>\n",
              "      <td>N</td>\n",
              "      <td>GS칼텍스</td>\n",
              "      <td>영등포구</td>\n",
              "      <td>37.498556</td>\n",
              "      <td>126.895791</td>\n",
              "    </tr>\n",
              "    <tr>\n",
              "      <th>176</th>\n",
              "      <td>도림주유소</td>\n",
              "      <td>서울 영등포구 도림로 343 (도림동)</td>\n",
              "      <td>1499.0</td>\n",
              "      <td>Y</td>\n",
              "      <td>알뜰주유소</td>\n",
              "      <td>영등포구</td>\n",
              "      <td>37.507656</td>\n",
              "      <td>126.900191</td>\n",
              "    </tr>\n",
              "    <tr>\n",
              "      <th>483</th>\n",
              "      <td>서경주유소</td>\n",
              "      <td>서울 동작구 대림로 46 (신대방동)</td>\n",
              "      <td>1499.0</td>\n",
              "      <td>N</td>\n",
              "      <td>현대오일뱅크</td>\n",
              "      <td>동작구</td>\n",
              "      <td>37.487947</td>\n",
              "      <td>126.908240</td>\n",
              "    </tr>\n",
              "    <tr>\n",
              "      <th>91</th>\n",
              "      <td>풀페이주유소</td>\n",
              "      <td>서울특별시 구로구 경인로 41 (온수동)</td>\n",
              "      <td>1499.0</td>\n",
              "      <td>N</td>\n",
              "      <td>SK에너지</td>\n",
              "      <td>구로구</td>\n",
              "      <td>37.491009</td>\n",
              "      <td>126.826675</td>\n",
              "    </tr>\n",
              "  </tbody>\n",
              "</table>\n",
              "</div>"
            ],
            "text/plain": [
              "         GasStation                     Address  ...        lat         lng\n",
              "19         만남의광장주유소  서울 서초구 양재대로12길 73-71 (원지동)  ...  37.459906  127.042060\n",
              "334       강서오곡셀프주유소     서울특별시 강서구 벌말로 254 (오곡동)  ...  37.555284  126.768567\n",
              "61          태릉솔밭주유소      서울특별시 노원구 노원로 49 (공릉동)  ...  37.625918  127.085533\n",
              "453          수유동주유소    서울특별시 강북구  도봉로 395 (수유동)  ...  37.642140  127.029568\n",
              "402         신일셀프주유소         서울 중랑구 상봉로 58 (망우동)  ...  37.590907  127.093834\n",
              "178         (주)강서오일       서울 영등포구 도신로 151 (도림동)  ...  37.509969  126.908231\n",
              "177  (주)대청에너지 대청주유소      서울 영등포구 가마산로 328 (대림동)  ...  37.498556  126.895791\n",
              "176           도림주유소       서울 영등포구 도림로 343 (도림동)  ...  37.507656  126.900191\n",
              "483           서경주유소        서울 동작구 대림로 46 (신대방동)  ...  37.487947  126.908240\n",
              "91           풀페이주유소      서울특별시 구로구 경인로 41 (온수동)  ...  37.491009  126.826675\n",
              "\n",
              "[10 rows x 8 columns]"
            ]
          },
          "metadata": {
            "tags": []
          },
          "execution_count": 36
        }
      ]
    },
    {
      "cell_type": "code",
      "metadata": {
        "id": "1KGxPsM5HOmB"
      },
      "source": [
        "map = folium.Map(location=[37.5202, 126.975], zoom_start=10.5)\n"
      ],
      "execution_count": 37,
      "outputs": []
    },
    {
      "cell_type": "code",
      "metadata": {
        "id": "d7v9ZDX8H3aH"
      },
      "source": [
        "for n in oil_price_top10.index:\n",
        "  if pd.notnull(oil_price_top10['lat'][n]):\n",
        "    folium.CircleMarker([oil_price_top10['lat'][n],oil_price_top10['lng'][n]],\n",
        "                        radius=15,color='#CD3181',\n",
        "                        fill_color='#CD3181',\n",
        "                        foll=True).add_to(map)\n",
        "\n",
        "for n in oil_price_bot10.index:\n",
        "  if pd.notnull(oil_price_bot10['lat'][n]):\n",
        "    folium.CircleMarker([oil_price_bot10['lat'][n],oil_price_bot10['lng'][n]],\n",
        "                        radius=15,color='#3186cc',\n",
        "                        fill_color='#3186cc',\n",
        "                        foll=True).add_to(map)"
      ],
      "execution_count": 38,
      "outputs": []
    },
    {
      "cell_type": "code",
      "metadata": {
        "colab": {
          "base_uri": "https://localhost:8080/",
          "height": 674
        },
        "id": "LXWTVLxRIUER",
        "outputId": "ab037a6e-c91d-489e-84a0-7c6795a8f211"
      },
      "source": [
        "map"
      ],
      "execution_count": 39,
      "outputs": [
        {
          "output_type": "execute_result",
          "data": {
            "text/html": [
              "<div style=\"width:100%;\"><div style=\"position:relative;width:100%;height:0;padding-bottom:60%;\"><span style=\"color:#565656\">Make this Notebook Trusted to load map: File -> Trust Notebook</span><iframe src=\"about:blank\" style=\"position:absolute;width:100%;height:100%;left:0;top:0;border:none !important;\" data-html=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 onload=\"this.contentDocument.open();this.contentDocument.write(atob(this.getAttribute('data-html')));this.contentDocument.close();\" allowfullscreen webkitallowfullscreen mozallowfullscreen></iframe></div></div>"
            ],
            "text/plain": [
              "<folium.folium.Map at 0x7fa3286ea2b0>"
            ]
          },
          "metadata": {
            "tags": []
          },
          "execution_count": 39
        }
      ]
    },
    {
      "cell_type": "code",
      "metadata": {
        "id": "PclPUfzMIVSG"
      },
      "source": [
        ""
      ],
      "execution_count": 39,
      "outputs": []
    }
  ]
}