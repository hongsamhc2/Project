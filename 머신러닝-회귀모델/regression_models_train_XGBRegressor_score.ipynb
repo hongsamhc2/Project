{
  "nbformat": 4,
  "nbformat_minor": 0,
  "metadata": {
    "colab": {
      "name": "regression_models_train_XGBRegressor_score.ipynb",
      "provenance": [],
      "collapsed_sections": [],
      "mount_file_id": "1cM_s1vNROEqx9gXEvL1FandHYBsZIkg3",
      "authorship_tag": "ABX9TyMOOdMwbnx8y19AqMfHCgw3",
      "include_colab_link": true
    },
    "kernelspec": {
      "name": "python3",
      "display_name": "Python 3"
    }
  },
  "cells": [
    {
      "cell_type": "markdown",
      "metadata": {
        "id": "view-in-github",
        "colab_type": "text"
      },
      "source": [
        "<a href=\"https://colab.research.google.com/github/hongsamhc2/AutoTradingSystem/blob/master/%EC%A1%B0%ED%9B%88%EC%B0%BD/regression_models_train_XGBRegressor_score.ipynb\" target=\"_parent\"><img src=\"https://colab.research.google.com/assets/colab-badge.svg\" alt=\"Open In Colab\"/></a>"
      ]
    },
    {
      "cell_type": "code",
      "metadata": {
        "id": "DlA0pKjvUvpL"
      },
      "source": [
        "import pandas as pd\n",
        "import numpy as np\n",
        "import matplotlib.pyplot as plt\n",
        "from sklearn.model_selection import train_test_split\n",
        "from sklearn.preprocessing import MinMaxScaler,StandardScaler\n",
        "from sklearn.model_selection import GridSearchCV\n",
        "%matplotlib inline"
      ],
      "execution_count": 92,
      "outputs": []
    },
    {
      "cell_type": "code",
      "metadata": {
        "id": "DOxDHftqUyay"
      },
      "source": [
        "df = pd.read_csv('/content/drive/My Drive/datasets/stock/ta_DA000020.csv')"
      ],
      "execution_count": 9,
      "outputs": []
    },
    {
      "cell_type": "code",
      "metadata": {
        "id": "1Ebg7t0XU2eQ"
      },
      "source": [
        "df['date'] = df['date'].astype('str')\n",
        "df.set_index(df['date'],inplace=True)\n",
        "df['label'] = df['close'].shift(-1)"
      ],
      "execution_count": 10,
      "outputs": []
    },
    {
      "cell_type": "code",
      "metadata": {
        "id": "o3O6jmQ8U3QQ"
      },
      "source": [
        "cols = df.columns\n",
        "for col in cols:\n",
        "  if df[col].sum() == 0 :\n",
        "    df.drop(col,axis=1,inplace=True)"
      ],
      "execution_count": 11,
      "outputs": []
    },
    {
      "cell_type": "code",
      "metadata": {
        "id": "c7S7_ccKU4co",
        "outputId": "28058a52-331c-4258-d1a8-82414ddf5ba9",
        "colab": {
          "base_uri": "https://localhost:8080/",
          "height": 233
        }
      },
      "source": [
        "df_ = df.dropna().copy()\n",
        "df_.isnull().sum()"
      ],
      "execution_count": 54,
      "outputs": [
        {
          "output_type": "execute_result",
          "data": {
            "text/plain": [
              "Unnamed: 0    0\n",
              "date          0\n",
              "open          0\n",
              "high          0\n",
              "low           0\n",
              "             ..\n",
              "WMA_20        0\n",
              "WMA_30        0\n",
              "WMA_60        0\n",
              "WMA_120       0\n",
              "label         0\n",
              "Length: 110, dtype: int64"
            ]
          },
          "metadata": {
            "tags": []
          },
          "execution_count": 54
        }
      ]
    },
    {
      "cell_type": "code",
      "metadata": {
        "id": "g4ibI-ifU5jQ"
      },
      "source": [
        "# make y_label and X_dataset\n",
        "\n",
        "y_label = df_['label'].copy()\n",
        "X_dataset = df_.drop(['Unnamed: 0','label'],axis=1).copy()\n",
        "X_dataset['date'] = X_dataset['date'].astype(int)"
      ],
      "execution_count": 55,
      "outputs": []
    },
    {
      "cell_type": "code",
      "metadata": {
        "id": "ou6n7v-eU7LY"
      },
      "source": [
        "from sklearn.linear_model import LinearRegression\n",
        "from sklearn.ensemble import RandomForestRegressor\n",
        "from xgboost import XGBRegressor\n",
        "from lightgbm import LGBMRegressor\n",
        "from sklearn.svm import SVR\n",
        "from sklearn.linear_model import Ridge, Lasso\n",
        "from sklearn.metrics import r2_score,accuracy_score"
      ],
      "execution_count": 56,
      "outputs": []
    },
    {
      "cell_type": "code",
      "metadata": {
        "id": "-uYCSmBbVDYY"
      },
      "source": [
        "def get_model(X,y,model_param):\n",
        "  for i in model_param:\n",
        "    if i == 'minmax':\n",
        "      scaled = MinMaxScaler()\n",
        "      X_scaled = scaled.fit_transform(X)\n",
        "      X_train1, X_test1, y_train1,y_test1 = train_test_split(X_scaled,y,train_size = 0.9,shuffle=False)\n",
        "      scores1 = model_score(X_train1,X_test1,y_train1,y_test1)\n",
        "      print('scaler : ' ,i)\n",
        "      for score in scores1:\n",
        "        print(score[0] + ' score : ', np.round(score[1],3))\n",
        "    elif i == 'standard':\n",
        "      scaled = StandardScaler()\n",
        "      X_scaled = scaled.fit_transform(X)\n",
        "      X_train1, X_test1, y_train1,y_test1 = train_test_split(X_scaled,y,train_size = 0.9,shuffle=False)\n",
        "      scores1 = model_score(X_train1,X_test1,y_train1,y_test1)\n",
        "      print('scaler : ' ,i)\n",
        "      for score in scores1:\n",
        "        print(score[0] + ' score : ', np.round(score[1],3))\n",
        "\n",
        "    \n",
        "\n"
      ],
      "execution_count": 88,
      "outputs": []
    },
    {
      "cell_type": "code",
      "metadata": {
        "id": "H66kZz_5VKLA"
      },
      "source": [
        "def model_score(X_train_,X_test_,y_train_,y_test_):\n",
        "  lin = LinearRegression()\n",
        "  ridge = Ridge()\n",
        "  lasso = Lasso()\n",
        "  random = RandomForestRegressor()\n",
        "  xgb = XGBRegressor()\n",
        "  lgbm = LGBMRegressor()\n",
        "  svr = SVR()\n",
        "\n",
        "  models = [lin,ridge,lasso,random,xgb,lgbm,svr]\n",
        "  result = []\n",
        "  for model in models:\n",
        "    model.fit(X_train_,y_train_)\n",
        "    pred = model.predict(X_test_)\n",
        "    score = r2_score(y_test_,pred)\n",
        "    list = [model.__class__.__name__ , score]\n",
        "    result.append(list)\n",
        "  return result\n",
        "    \n",
        "\n",
        "  \n",
        "\n",
        "\n",
        "  "
      ],
      "execution_count": 89,
      "outputs": []
    },
    {
      "cell_type": "code",
      "metadata": {
        "id": "w9KfwbzcVLYn",
        "outputId": "6707b9e2-44a0-4b7a-e902-2f88097eb0a7",
        "colab": {
          "base_uri": "https://localhost:8080/",
          "height": 433
        }
      },
      "source": [
        "get_model(X_dataset,y_label,['minmax','standard'])"
      ],
      "execution_count": 90,
      "outputs": [
        {
          "output_type": "stream",
          "text": [
            "/usr/local/lib/python3.6/dist-packages/sklearn/linear_model/_coordinate_descent.py:476: ConvergenceWarning: Objective did not converge. You might want to increase the number of iterations. Duality gap: 307832522.15005684, tolerance: 143002786.20836475\n",
            "  positive)\n"
          ],
          "name": "stderr"
        },
        {
          "output_type": "stream",
          "text": [
            "[08:24:57] WARNING: /workspace/src/objective/regression_obj.cu:152: reg:linear is now deprecated in favor of reg:squarederror.\n",
            "scaler :  minmax\n",
            "LinearRegression score :  0.984\n",
            "Ridge score :  0.984\n",
            "Lasso score :  0.987\n",
            "RandomForestRegressor score :  0.935\n",
            "XGBRegressor score :  0.978\n",
            "LGBMRegressor score :  0.604\n",
            "SVR score :  0.162\n"
          ],
          "name": "stdout"
        },
        {
          "output_type": "stream",
          "text": [
            "/usr/local/lib/python3.6/dist-packages/sklearn/linear_model/_coordinate_descent.py:476: ConvergenceWarning: Objective did not converge. You might want to increase the number of iterations. Duality gap: 2296256073.1985726, tolerance: 143002786.20836475\n",
            "  positive)\n"
          ],
          "name": "stderr"
        },
        {
          "output_type": "stream",
          "text": [
            "[08:26:36] WARNING: /workspace/src/objective/regression_obj.cu:152: reg:linear is now deprecated in favor of reg:squarederror.\n",
            "scaler :  standard\n",
            "LinearRegression score :  0.984\n",
            "Ridge score :  0.983\n",
            "Lasso score :  0.898\n",
            "RandomForestRegressor score :  0.926\n",
            "XGBRegressor score :  0.978\n",
            "LGBMRegressor score :  0.955\n",
            "SVR score :  0.242\n"
          ],
          "name": "stdout"
        }
      ]
    },
    {
      "cell_type": "code",
      "metadata": {
        "id": "c8xiORy3VOLY"
      },
      "source": [
        "xgb = XGBRegressor()\n",
        "\n",
        "parameters = {'nthread':[4], #when use hyperthread, xgboost may become slower\n",
        "              'objective':['reg:linear'],\n",
        "              'learning_rate': [.03, 0.05, .07], #so called `eta` value\n",
        "              'max_depth': [5, 6, 7],\n",
        "              'min_child_weight': [4],\n",
        "              'silent': [1],\n",
        "              'subsample': [0.7],\n",
        "              'colsample_bytree': [0.7],\n",
        "              'n_estimators': [500]}\n",
        "xgb_grid = GridSearchCV(xgb,\n",
        "                        parameters,\n",
        "                        cv = 10,\n",
        "                        n_jobs = -1,\n",
        "                        verbose=True)"
      ],
      "execution_count": 95,
      "outputs": []
    },
    {
      "cell_type": "code",
      "metadata": {
        "id": "BfXs8nweiDzt",
        "outputId": "64a72cee-c92a-4a7a-aa53-f4c348a7ee17",
        "colab": {
          "base_uri": "https://localhost:8080/",
          "height": 467
        }
      },
      "source": [
        "X_train,X_test,y_train,y_test = train_test_split(X_dataset,y_label,train_size = 0.9, shuffle = False)\n",
        "xgb_grid.fit(X_train,y_train)"
      ],
      "execution_count": 97,
      "outputs": [
        {
          "output_type": "stream",
          "text": [
            "Fitting 10 folds for each of 9 candidates, totalling 90 fits\n"
          ],
          "name": "stdout"
        },
        {
          "output_type": "stream",
          "text": [
            "[Parallel(n_jobs=-1)]: Using backend LokyBackend with 2 concurrent workers.\n",
            "[Parallel(n_jobs=-1)]: Done  46 tasks      | elapsed: 19.5min\n",
            "[Parallel(n_jobs=-1)]: Done  90 out of  90 | elapsed: 39.6min finished\n"
          ],
          "name": "stderr"
        },
        {
          "output_type": "execute_result",
          "data": {
            "text/plain": [
              "GridSearchCV(cv=10, error_score=nan,\n",
              "             estimator=XGBRegressor(base_score=0.5, booster='gbtree',\n",
              "                                    colsample_bylevel=1, colsample_bynode=1,\n",
              "                                    colsample_bytree=1, gamma=0,\n",
              "                                    importance_type='gain', learning_rate=0.1,\n",
              "                                    max_delta_step=0, max_depth=3,\n",
              "                                    min_child_weight=1, missing=None,\n",
              "                                    n_estimators=100, n_jobs=1, nthread=None,\n",
              "                                    objective='reg:linear', random_state=0,\n",
              "                                    reg_alpha=0, reg...\n",
              "                                    scale_pos_weight=1, seed=None, silent=None,\n",
              "                                    subsample=1, verbosity=1),\n",
              "             iid='deprecated', n_jobs=-1,\n",
              "             param_grid={'colsample_bytree': [0.7],\n",
              "                         'learning_rate': [0.03, 0.05, 0.07],\n",
              "                         'max_depth': [5, 6, 7], 'min_child_weight': [4],\n",
              "                         'n_estimators': [500], 'nthread': [4],\n",
              "                         'objective': ['reg:linear'], 'silent': [1],\n",
              "                         'subsample': [0.7]},\n",
              "             pre_dispatch='2*n_jobs', refit=True, return_train_score=False,\n",
              "             scoring=None, verbose=True)"
            ]
          },
          "metadata": {
            "tags": []
          },
          "execution_count": 97
        }
      ]
    },
    {
      "cell_type": "code",
      "metadata": {
        "id": "UbkNa0XBicMi",
        "outputId": "74e5364d-f9a7-4319-deb4-a5f9fc31bd6e",
        "colab": {
          "base_uri": "https://localhost:8080/",
          "height": 179
        }
      },
      "source": [
        "xgb_grid.best_params_"
      ],
      "execution_count": 98,
      "outputs": [
        {
          "output_type": "execute_result",
          "data": {
            "text/plain": [
              "{'colsample_bytree': 0.7,\n",
              " 'learning_rate': 0.03,\n",
              " 'max_depth': 6,\n",
              " 'min_child_weight': 4,\n",
              " 'n_estimators': 500,\n",
              " 'nthread': 4,\n",
              " 'objective': 'reg:linear',\n",
              " 'silent': 1,\n",
              " 'subsample': 0.7}"
            ]
          },
          "metadata": {
            "tags": []
          },
          "execution_count": 98
        }
      ]
    },
    {
      "cell_type": "code",
      "metadata": {
        "id": "X-pxZnxKsyhu"
      },
      "source": [
        "xgb = XGBRegressor(colsample_bytree=0.7,learning_rate=0.03,max_depth=6,min_child_weight=4,n_estimators=500,nthread=4,objective='reg:linear',silent=1,subsample=0.7)"
      ],
      "execution_count": 99,
      "outputs": []
    },
    {
      "cell_type": "code",
      "metadata": {
        "id": "KwYkHn3rtKXj",
        "outputId": "60de60d5-ab9e-4515-effc-dbfd8f3a9336",
        "colab": {
          "base_uri": "https://localhost:8080/",
          "height": 143
        }
      },
      "source": [
        "xgb.fit(X_train,y_train)"
      ],
      "execution_count": 100,
      "outputs": [
        {
          "output_type": "execute_result",
          "data": {
            "text/plain": [
              "XGBRegressor(base_score=0.5, booster='gbtree', colsample_bylevel=1,\n",
              "             colsample_bynode=1, colsample_bytree=0.7, gamma=0,\n",
              "             importance_type='gain', learning_rate=0.03, max_delta_step=0,\n",
              "             max_depth=6, min_child_weight=4, missing=None, n_estimators=500,\n",
              "             n_jobs=1, nthread=4, objective='reg:linear', random_state=0,\n",
              "             reg_alpha=0, reg_lambda=1, scale_pos_weight=1, seed=None, silent=1,\n",
              "             subsample=0.7, verbosity=1)"
            ]
          },
          "metadata": {
            "tags": []
          },
          "execution_count": 100
        }
      ]
    },
    {
      "cell_type": "code",
      "metadata": {
        "id": "jygi-_pDtMbs",
        "outputId": "d2d59b9b-6e93-499f-d1e2-9263a57cabc7",
        "colab": {
          "base_uri": "https://localhost:8080/",
          "height": 35
        }
      },
      "source": [
        "pred = xgb.predict(X_test)\n",
        "\n",
        "print(r2_score(y_test,pred))\n"
      ],
      "execution_count": 103,
      "outputs": [
        {
          "output_type": "stream",
          "text": [
            "0.9793739395504665\n"
          ],
          "name": "stdout"
        }
      ]
    },
    {
      "cell_type": "code",
      "metadata": {
        "id": "1Yjw2IhFthzL"
      },
      "source": [
        ""
      ],
      "execution_count": null,
      "outputs": []
    }
  ]
}